{
 "cells": [
  {
   "cell_type": "code",
   "execution_count": 2,
   "metadata": {},
   "outputs": [],
   "source": [
    "import numpy as np\n",
    "import pandas as pd\n",
    "import matplotlib.pyplot as plt\n",
    "import seaborn as sns\n",
    "import warnings\n",
    "warnings.filterwarnings('ignore')"
   ]
  },
  {
   "cell_type": "code",
   "execution_count": 4,
   "metadata": {},
   "outputs": [
    {
     "data": {
      "text/html": [
       "<div>\n",
       "<style scoped>\n",
       "    .dataframe tbody tr th:only-of-type {\n",
       "        vertical-align: middle;\n",
       "    }\n",
       "\n",
       "    .dataframe tbody tr th {\n",
       "        vertical-align: top;\n",
       "    }\n",
       "\n",
       "    .dataframe thead th {\n",
       "        text-align: right;\n",
       "    }\n",
       "</style>\n",
       "<table border=\"1\" class=\"dataframe\">\n",
       "  <thead>\n",
       "    <tr style=\"text-align: right;\">\n",
       "      <th></th>\n",
       "      <th>0</th>\n",
       "      <th>1</th>\n",
       "      <th>2</th>\n",
       "      <th>3</th>\n",
       "      <th>4</th>\n",
       "      <th>5</th>\n",
       "      <th>6</th>\n",
       "      <th>7</th>\n",
       "      <th>8</th>\n",
       "      <th>9</th>\n",
       "      <th>...</th>\n",
       "      <th>51</th>\n",
       "      <th>52</th>\n",
       "      <th>53</th>\n",
       "      <th>54</th>\n",
       "      <th>55</th>\n",
       "      <th>56</th>\n",
       "      <th>57</th>\n",
       "      <th>58</th>\n",
       "      <th>59</th>\n",
       "      <th>60</th>\n",
       "    </tr>\n",
       "  </thead>\n",
       "  <tbody>\n",
       "    <tr>\n",
       "      <th>17</th>\n",
       "      <td>0.0192</td>\n",
       "      <td>0.0607</td>\n",
       "      <td>0.0378</td>\n",
       "      <td>0.0774</td>\n",
       "      <td>0.1388</td>\n",
       "      <td>0.0809</td>\n",
       "      <td>0.0568</td>\n",
       "      <td>0.0219</td>\n",
       "      <td>0.1037</td>\n",
       "      <td>0.1186</td>\n",
       "      <td>...</td>\n",
       "      <td>0.0331</td>\n",
       "      <td>0.0131</td>\n",
       "      <td>0.0120</td>\n",
       "      <td>0.0108</td>\n",
       "      <td>0.0024</td>\n",
       "      <td>0.0045</td>\n",
       "      <td>0.0037</td>\n",
       "      <td>0.0112</td>\n",
       "      <td>0.0075</td>\n",
       "      <td>R</td>\n",
       "    </tr>\n",
       "    <tr>\n",
       "      <th>61</th>\n",
       "      <td>0.0135</td>\n",
       "      <td>0.0045</td>\n",
       "      <td>0.0051</td>\n",
       "      <td>0.0289</td>\n",
       "      <td>0.0561</td>\n",
       "      <td>0.0929</td>\n",
       "      <td>0.1031</td>\n",
       "      <td>0.0883</td>\n",
       "      <td>0.1596</td>\n",
       "      <td>0.1908</td>\n",
       "      <td>...</td>\n",
       "      <td>0.0037</td>\n",
       "      <td>0.0084</td>\n",
       "      <td>0.0102</td>\n",
       "      <td>0.0096</td>\n",
       "      <td>0.0024</td>\n",
       "      <td>0.0037</td>\n",
       "      <td>0.0028</td>\n",
       "      <td>0.0030</td>\n",
       "      <td>0.0030</td>\n",
       "      <td>R</td>\n",
       "    </tr>\n",
       "    <tr>\n",
       "      <th>2</th>\n",
       "      <td>0.0262</td>\n",
       "      <td>0.0582</td>\n",
       "      <td>0.1099</td>\n",
       "      <td>0.1083</td>\n",
       "      <td>0.0974</td>\n",
       "      <td>0.2280</td>\n",
       "      <td>0.2431</td>\n",
       "      <td>0.3771</td>\n",
       "      <td>0.5598</td>\n",
       "      <td>0.6194</td>\n",
       "      <td>...</td>\n",
       "      <td>0.0232</td>\n",
       "      <td>0.0166</td>\n",
       "      <td>0.0095</td>\n",
       "      <td>0.0180</td>\n",
       "      <td>0.0244</td>\n",
       "      <td>0.0316</td>\n",
       "      <td>0.0164</td>\n",
       "      <td>0.0095</td>\n",
       "      <td>0.0078</td>\n",
       "      <td>R</td>\n",
       "    </tr>\n",
       "    <tr>\n",
       "      <th>100</th>\n",
       "      <td>0.0629</td>\n",
       "      <td>0.1065</td>\n",
       "      <td>0.1526</td>\n",
       "      <td>0.1229</td>\n",
       "      <td>0.1437</td>\n",
       "      <td>0.1190</td>\n",
       "      <td>0.0884</td>\n",
       "      <td>0.0907</td>\n",
       "      <td>0.2107</td>\n",
       "      <td>0.3597</td>\n",
       "      <td>...</td>\n",
       "      <td>0.0089</td>\n",
       "      <td>0.0262</td>\n",
       "      <td>0.0108</td>\n",
       "      <td>0.0138</td>\n",
       "      <td>0.0187</td>\n",
       "      <td>0.0230</td>\n",
       "      <td>0.0057</td>\n",
       "      <td>0.0113</td>\n",
       "      <td>0.0131</td>\n",
       "      <td>M</td>\n",
       "    </tr>\n",
       "    <tr>\n",
       "      <th>161</th>\n",
       "      <td>0.0305</td>\n",
       "      <td>0.0363</td>\n",
       "      <td>0.0214</td>\n",
       "      <td>0.0227</td>\n",
       "      <td>0.0456</td>\n",
       "      <td>0.0665</td>\n",
       "      <td>0.0939</td>\n",
       "      <td>0.0972</td>\n",
       "      <td>0.2535</td>\n",
       "      <td>0.3127</td>\n",
       "      <td>...</td>\n",
       "      <td>0.0200</td>\n",
       "      <td>0.0070</td>\n",
       "      <td>0.0070</td>\n",
       "      <td>0.0086</td>\n",
       "      <td>0.0089</td>\n",
       "      <td>0.0074</td>\n",
       "      <td>0.0042</td>\n",
       "      <td>0.0055</td>\n",
       "      <td>0.0021</td>\n",
       "      <td>M</td>\n",
       "    </tr>\n",
       "  </tbody>\n",
       "</table>\n",
       "<p>5 rows × 61 columns</p>\n",
       "</div>"
      ],
      "text/plain": [
       "         0       1       2       3       4       5       6       7       8   \\\n",
       "17   0.0192  0.0607  0.0378  0.0774  0.1388  0.0809  0.0568  0.0219  0.1037   \n",
       "61   0.0135  0.0045  0.0051  0.0289  0.0561  0.0929  0.1031  0.0883  0.1596   \n",
       "2    0.0262  0.0582  0.1099  0.1083  0.0974  0.2280  0.2431  0.3771  0.5598   \n",
       "100  0.0629  0.1065  0.1526  0.1229  0.1437  0.1190  0.0884  0.0907  0.2107   \n",
       "161  0.0305  0.0363  0.0214  0.0227  0.0456  0.0665  0.0939  0.0972  0.2535   \n",
       "\n",
       "         9   ...      51      52      53      54      55      56      57  \\\n",
       "17   0.1186  ...  0.0331  0.0131  0.0120  0.0108  0.0024  0.0045  0.0037   \n",
       "61   0.1908  ...  0.0037  0.0084  0.0102  0.0096  0.0024  0.0037  0.0028   \n",
       "2    0.6194  ...  0.0232  0.0166  0.0095  0.0180  0.0244  0.0316  0.0164   \n",
       "100  0.3597  ...  0.0089  0.0262  0.0108  0.0138  0.0187  0.0230  0.0057   \n",
       "161  0.3127  ...  0.0200  0.0070  0.0070  0.0086  0.0089  0.0074  0.0042   \n",
       "\n",
       "         58      59  60  \n",
       "17   0.0112  0.0075   R  \n",
       "61   0.0030  0.0030   R  \n",
       "2    0.0095  0.0078   R  \n",
       "100  0.0113  0.0131   M  \n",
       "161  0.0055  0.0021   M  \n",
       "\n",
       "[5 rows x 61 columns]"
      ]
     },
     "execution_count": 4,
     "metadata": {},
     "output_type": "execute_result"
    }
   ],
   "source": [
    "df = pd.read_csv(\"C:/Users/vedan/OneDrive/Documents/sonar.csv\", header=None)\n",
    "df.sample(5)"
   ]
  },
  {
   "cell_type": "code",
   "execution_count": 5,
   "metadata": {},
   "outputs": [
    {
     "data": {
      "text/plain": [
       "(208, 61)"
      ]
     },
     "execution_count": 5,
     "metadata": {},
     "output_type": "execute_result"
    }
   ],
   "source": [
    "df.shape"
   ]
  },
  {
   "cell_type": "code",
   "execution_count": 6,
   "metadata": {},
   "outputs": [
    {
     "data": {
      "text/plain": [
       "0     0\n",
       "1     0\n",
       "2     0\n",
       "3     0\n",
       "4     0\n",
       "     ..\n",
       "56    0\n",
       "57    0\n",
       "58    0\n",
       "59    0\n",
       "60    0\n",
       "Length: 61, dtype: int64"
      ]
     },
     "execution_count": 6,
     "metadata": {},
     "output_type": "execute_result"
    }
   ],
   "source": [
    "# check for nan values\n",
    "df.isna().sum()"
   ]
  },
  {
   "cell_type": "code",
   "execution_count": 7,
   "metadata": {},
   "outputs": [
    {
     "data": {
      "text/plain": [
       "Int64Index([ 0,  1,  2,  3,  4,  5,  6,  7,  8,  9, 10, 11, 12, 13, 14, 15, 16,\n",
       "            17, 18, 19, 20, 21, 22, 23, 24, 25, 26, 27, 28, 29, 30, 31, 32, 33,\n",
       "            34, 35, 36, 37, 38, 39, 40, 41, 42, 43, 44, 45, 46, 47, 48, 49, 50,\n",
       "            51, 52, 53, 54, 55, 56, 57, 58, 59, 60],\n",
       "           dtype='int64')"
      ]
     },
     "execution_count": 7,
     "metadata": {},
     "output_type": "execute_result"
    }
   ],
   "source": [
    "df.columns"
   ]
  },
  {
   "cell_type": "code",
   "execution_count": 8,
   "metadata": {},
   "outputs": [
    {
     "data": {
      "text/plain": [
       "M    111\n",
       "R     97\n",
       "Name: 60, dtype: int64"
      ]
     },
     "execution_count": 8,
     "metadata": {},
     "output_type": "execute_result"
    }
   ],
   "source": [
    "df[60].value_counts() "
   ]
  },
  {
   "cell_type": "code",
   "execution_count": 9,
   "metadata": {},
   "outputs": [
    {
     "data": {
      "text/plain": [
       "0    R\n",
       "1    R\n",
       "2    R\n",
       "3    R\n",
       "4    R\n",
       "Name: 60, dtype: object"
      ]
     },
     "execution_count": 9,
     "metadata": {},
     "output_type": "execute_result"
    }
   ],
   "source": [
    "X = df.drop(60, axis=1)\n",
    "y = df[60]\n",
    "y.head()"
   ]
  },
  {
   "cell_type": "code",
   "execution_count": 13,
   "metadata": {},
   "outputs": [
    {
     "data": {
      "text/html": [
       "<div>\n",
       "<style scoped>\n",
       "    .dataframe tbody tr th:only-of-type {\n",
       "        vertical-align: middle;\n",
       "    }\n",
       "\n",
       "    .dataframe tbody tr th {\n",
       "        vertical-align: top;\n",
       "    }\n",
       "\n",
       "    .dataframe thead th {\n",
       "        text-align: right;\n",
       "    }\n",
       "</style>\n",
       "<table border=\"1\" class=\"dataframe\">\n",
       "  <thead>\n",
       "    <tr style=\"text-align: right;\">\n",
       "      <th></th>\n",
       "      <th>R</th>\n",
       "    </tr>\n",
       "  </thead>\n",
       "  <tbody>\n",
       "    <tr>\n",
       "      <th>69</th>\n",
       "      <td>1</td>\n",
       "    </tr>\n",
       "    <tr>\n",
       "      <th>177</th>\n",
       "      <td>0</td>\n",
       "    </tr>\n",
       "    <tr>\n",
       "      <th>7</th>\n",
       "      <td>1</td>\n",
       "    </tr>\n",
       "    <tr>\n",
       "      <th>148</th>\n",
       "      <td>0</td>\n",
       "    </tr>\n",
       "    <tr>\n",
       "      <th>174</th>\n",
       "      <td>0</td>\n",
       "    </tr>\n",
       "  </tbody>\n",
       "</table>\n",
       "</div>"
      ],
      "text/plain": [
       "     R\n",
       "69   1\n",
       "177  0\n",
       "7    1\n",
       "148  0\n",
       "174  0"
      ]
     },
     "execution_count": 13,
     "metadata": {},
     "output_type": "execute_result"
    }
   ],
   "source": [
    "#one hot encoding of y\n",
    "y = pd.get_dummies(y, drop_first=True)\n",
    "y.sample(5) # R --> 1 and M --> 0"
   ]
  },
  {
   "cell_type": "code",
   "execution_count": 14,
   "metadata": {},
   "outputs": [
    {
     "data": {
      "text/plain": [
       "R\n",
       "0    111\n",
       "1     97\n",
       "dtype: int64"
      ]
     },
     "execution_count": 14,
     "metadata": {},
     "output_type": "execute_result"
    }
   ],
   "source": [
    "y.value_counts()"
   ]
  },
  {
   "cell_type": "code",
   "execution_count": 15,
   "metadata": {},
   "outputs": [],
   "source": [
    "#divide into test and train\n",
    "from sklearn.model_selection import train_test_split\n",
    "X_train, X_test, y_train, y_test = train_test_split(X, y, test_size=0.25, random_state=1)"
   ]
  },
  {
   "cell_type": "code",
   "execution_count": 17,
   "metadata": {},
   "outputs": [
    {
     "data": {
      "text/plain": [
       "((156, 60), (52, 60))"
      ]
     },
     "execution_count": 17,
     "metadata": {},
     "output_type": "execute_result"
    }
   ],
   "source": [
    "X_train.shape, X_test.shape"
   ]
  },
  {
   "cell_type": "markdown",
   "metadata": {},
   "source": [
    "# DL with Dropout"
   ]
  },
  {
   "cell_type": "code",
   "execution_count": 18,
   "metadata": {},
   "outputs": [],
   "source": [
    "import tensorflow as tf\n",
    "from tensorflow import keras"
   ]
  },
  {
   "cell_type": "code",
   "execution_count": 19,
   "metadata": {},
   "outputs": [
    {
     "name": "stdout",
     "output_type": "stream",
     "text": [
      "Epoch 1/100\n",
      "20/20 [==============================] - 1s 1ms/step - loss: 0.6813 - accuracy: 0.5760\n",
      "Epoch 2/100\n",
      "20/20 [==============================] - 0s 1ms/step - loss: 0.6562 - accuracy: 0.6112\n",
      "Epoch 3/100\n",
      "20/20 [==============================] - 0s 2ms/step - loss: 0.6513 - accuracy: 0.6518\n",
      "Epoch 4/100\n",
      "20/20 [==============================] - 0s 2ms/step - loss: 0.6226 - accuracy: 0.7003\n",
      "Epoch 5/100\n",
      "20/20 [==============================] - 0s 2ms/step - loss: 0.5978 - accuracy: 0.6805\n",
      "Epoch 6/100\n",
      "20/20 [==============================] - 0s 1ms/step - loss: 0.5790 - accuracy: 0.6968\n",
      "Epoch 7/100\n",
      "20/20 [==============================] - 0s 1ms/step - loss: 0.5222 - accuracy: 0.8529\n",
      "Epoch 8/100\n",
      "20/20 [==============================] - 0s 1ms/step - loss: 0.5051 - accuracy: 0.7859\n",
      "Epoch 9/100\n",
      "20/20 [==============================] - 0s 1ms/step - loss: 0.4799 - accuracy: 0.7642\n",
      "Epoch 10/100\n",
      "20/20 [==============================] - 0s 1ms/step - loss: 0.4171 - accuracy: 0.8477\n",
      "Epoch 11/100\n",
      "20/20 [==============================] - 0s 1ms/step - loss: 0.4242 - accuracy: 0.8352\n",
      "Epoch 12/100\n",
      "20/20 [==============================] - 0s 1ms/step - loss: 0.3557 - accuracy: 0.8588\n",
      "Epoch 13/100\n",
      "20/20 [==============================] - 0s 1ms/step - loss: 0.3472 - accuracy: 0.8768\n",
      "Epoch 14/100\n",
      "20/20 [==============================] - 0s 1ms/step - loss: 0.2971 - accuracy: 0.9221\n",
      "Epoch 15/100\n",
      "20/20 [==============================] - 0s 1ms/step - loss: 0.3223 - accuracy: 0.9282\n",
      "Epoch 16/100\n",
      "20/20 [==============================] - 0s 1ms/step - loss: 0.3089 - accuracy: 0.9140\n",
      "Epoch 17/100\n",
      "20/20 [==============================] - 0s 1ms/step - loss: 0.2851 - accuracy: 0.8827\n",
      "Epoch 18/100\n",
      "20/20 [==============================] - 0s 1ms/step - loss: 0.2896 - accuracy: 0.8893\n",
      "Epoch 19/100\n",
      "20/20 [==============================] - 0s 1ms/step - loss: 0.2865 - accuracy: 0.8933\n",
      "Epoch 20/100\n",
      "20/20 [==============================] - 0s 997us/step - loss: 0.2346 - accuracy: 0.9245\n",
      "Epoch 21/100\n",
      "20/20 [==============================] - 0s 945us/step - loss: 0.2255 - accuracy: 0.9505\n",
      "Epoch 22/100\n",
      "20/20 [==============================] - 0s 1ms/step - loss: 0.2639 - accuracy: 0.9059\n",
      "Epoch 23/100\n",
      "20/20 [==============================] - 0s 1ms/step - loss: 0.2209 - accuracy: 0.9280\n",
      "Epoch 24/100\n",
      "20/20 [==============================] - 0s 1ms/step - loss: 0.1834 - accuracy: 0.9382\n",
      "Epoch 25/100\n",
      "20/20 [==============================] - 0s 1ms/step - loss: 0.2497 - accuracy: 0.8877\n",
      "Epoch 26/100\n",
      "20/20 [==============================] - 0s 1ms/step - loss: 0.2519 - accuracy: 0.9144\n",
      "Epoch 27/100\n",
      "20/20 [==============================] - 0s 892us/step - loss: 0.2321 - accuracy: 0.8894\n",
      "Epoch 28/100\n",
      "20/20 [==============================] - 0s 1ms/step - loss: 0.1571 - accuracy: 0.9497\n",
      "Epoch 29/100\n",
      "20/20 [==============================] - 0s 1ms/step - loss: 0.2006 - accuracy: 0.9389\n",
      "Epoch 30/100\n",
      "20/20 [==============================] - 0s 1ms/step - loss: 0.1435 - accuracy: 0.9715\n",
      "Epoch 31/100\n",
      "20/20 [==============================] - 0s 997us/step - loss: 0.1568 - accuracy: 0.9805\n",
      "Epoch 32/100\n",
      "20/20 [==============================] - 0s 1ms/step - loss: 0.1429 - accuracy: 0.9377\n",
      "Epoch 33/100\n",
      "20/20 [==============================] - 0s 997us/step - loss: 0.1342 - accuracy: 0.9808\n",
      "Epoch 34/100\n",
      "20/20 [==============================] - 0s 1ms/step - loss: 0.1280 - accuracy: 0.9725\n",
      "Epoch 35/100\n",
      "20/20 [==============================] - 0s 1ms/step - loss: 0.1393 - accuracy: 0.9600\n",
      "Epoch 36/100\n",
      "20/20 [==============================] - 0s 1ms/step - loss: 0.1400 - accuracy: 0.9576\n",
      "Epoch 37/100\n",
      "20/20 [==============================] - 0s 1ms/step - loss: 0.1265 - accuracy: 0.9319\n",
      "Epoch 38/100\n",
      "20/20 [==============================] - 0s 1ms/step - loss: 0.0934 - accuracy: 0.9779\n",
      "Epoch 39/100\n",
      "20/20 [==============================] - 0s 997us/step - loss: 0.0984 - accuracy: 0.9711\n",
      "Epoch 40/100\n",
      "20/20 [==============================] - 0s 945us/step - loss: 0.1366 - accuracy: 0.9255\n",
      "Epoch 41/100\n",
      "20/20 [==============================] - 0s 998us/step - loss: 0.1115 - accuracy: 0.9787\n",
      "Epoch 42/100\n",
      "20/20 [==============================] - 0s 1ms/step - loss: 0.0822 - accuracy: 0.9934\n",
      "Epoch 43/100\n",
      "20/20 [==============================] - 0s 997us/step - loss: 0.0735 - accuracy: 0.9855\n",
      "Epoch 44/100\n",
      "20/20 [==============================] - 0s 1ms/step - loss: 0.0698 - accuracy: 0.9851\n",
      "Epoch 45/100\n",
      "20/20 [==============================] - 0s 997us/step - loss: 0.0753 - accuracy: 0.9814\n",
      "Epoch 46/100\n",
      "20/20 [==============================] - 0s 892us/step - loss: 0.0528 - accuracy: 0.9919\n",
      "Epoch 47/100\n",
      "20/20 [==============================] - 0s 997us/step - loss: 0.0543 - accuracy: 0.9944\n",
      "Epoch 48/100\n",
      "20/20 [==============================] - 0s 997us/step - loss: 0.0529 - accuracy: 0.9957\n",
      "Epoch 49/100\n",
      "20/20 [==============================] - 0s 1ms/step - loss: 0.0453 - accuracy: 0.9959\n",
      "Epoch 50/100\n",
      "20/20 [==============================] - 0s 1ms/step - loss: 0.0523 - accuracy: 0.9763\n",
      "Epoch 51/100\n",
      "20/20 [==============================] - 0s 1ms/step - loss: 0.0454 - accuracy: 0.9843\n",
      "Epoch 52/100\n",
      "20/20 [==============================] - 0s 945us/step - loss: 0.0765 - accuracy: 0.9793\n",
      "Epoch 53/100\n",
      "20/20 [==============================] - 0s 997us/step - loss: 0.0516 - accuracy: 1.0000\n",
      "Epoch 54/100\n",
      "20/20 [==============================] - 0s 945us/step - loss: 0.0352 - accuracy: 0.9967\n",
      "Epoch 55/100\n",
      "20/20 [==============================] - 0s 945us/step - loss: 0.0321 - accuracy: 1.0000\n",
      "Epoch 56/100\n",
      "20/20 [==============================] - 0s 945us/step - loss: 0.0289 - accuracy: 1.0000\n",
      "Epoch 57/100\n",
      "20/20 [==============================] - 0s 892us/step - loss: 0.0444 - accuracy: 0.9967\n",
      "Epoch 58/100\n",
      "20/20 [==============================] - 0s 997us/step - loss: 0.0268 - accuracy: 1.0000\n",
      "Epoch 59/100\n",
      "20/20 [==============================] - 0s 1ms/step - loss: 0.0262 - accuracy: 1.0000\n",
      "Epoch 60/100\n",
      "20/20 [==============================] - 0s 1ms/step - loss: 0.0168 - accuracy: 0.9967\n",
      "Epoch 61/100\n",
      "20/20 [==============================] - 0s 1ms/step - loss: 0.0248 - accuracy: 1.0000\n",
      "Epoch 62/100\n",
      "20/20 [==============================] - 0s 997us/step - loss: 0.0423 - accuracy: 0.9892\n",
      "Epoch 63/100\n",
      "20/20 [==============================] - 0s 840us/step - loss: 0.0185 - accuracy: 1.0000\n",
      "Epoch 64/100\n",
      "20/20 [==============================] - 0s 997us/step - loss: 0.0187 - accuracy: 0.9937\n",
      "Epoch 65/100\n",
      "20/20 [==============================] - 0s 945us/step - loss: 0.0128 - accuracy: 1.0000\n",
      "Epoch 66/100\n",
      "20/20 [==============================] - 0s 1ms/step - loss: 0.0185 - accuracy: 0.9972\n",
      "Epoch 67/100\n",
      "20/20 [==============================] - 0s 945us/step - loss: 0.0224 - accuracy: 1.0000\n",
      "Epoch 68/100\n",
      "20/20 [==============================] - 0s 998us/step - loss: 0.0217 - accuracy: 1.0000\n",
      "Epoch 69/100\n",
      "20/20 [==============================] - 0s 997us/step - loss: 0.0138 - accuracy: 1.0000\n",
      "Epoch 70/100\n",
      "20/20 [==============================] - 0s 997us/step - loss: 0.0144 - accuracy: 0.9976\n",
      "Epoch 71/100\n",
      "20/20 [==============================] - 0s 945us/step - loss: 0.0143 - accuracy: 1.0000\n",
      "Epoch 72/100\n",
      "20/20 [==============================] - 0s 997us/step - loss: 0.0135 - accuracy: 1.0000\n",
      "Epoch 73/100\n",
      "20/20 [==============================] - 0s 945us/step - loss: 0.0094 - accuracy: 1.0000\n",
      "Epoch 74/100\n",
      "20/20 [==============================] - 0s 945us/step - loss: 0.0089 - accuracy: 1.0000\n",
      "Epoch 75/100\n",
      "20/20 [==============================] - 0s 945us/step - loss: 0.0073 - accuracy: 1.0000\n",
      "Epoch 76/100\n",
      "20/20 [==============================] - 0s 1ms/step - loss: 0.0068 - accuracy: 1.0000\n",
      "Epoch 77/100\n",
      "20/20 [==============================] - 0s 997us/step - loss: 0.0097 - accuracy: 1.0000\n",
      "Epoch 78/100\n",
      "20/20 [==============================] - 0s 945us/step - loss: 0.0083 - accuracy: 1.0000\n",
      "Epoch 79/100\n",
      "20/20 [==============================] - 0s 996us/step - loss: 0.0094 - accuracy: 1.0000\n",
      "Epoch 80/100\n",
      "20/20 [==============================] - 0s 1ms/step - loss: 0.0053 - accuracy: 1.0000\n",
      "Epoch 81/100\n",
      "20/20 [==============================] - 0s 945us/step - loss: 0.0056 - accuracy: 1.0000\n",
      "Epoch 82/100\n",
      "20/20 [==============================] - 0s 997us/step - loss: 0.0072 - accuracy: 1.0000\n",
      "Epoch 83/100\n",
      "20/20 [==============================] - 0s 1ms/step - loss: 0.0061 - accuracy: 1.0000\n",
      "Epoch 84/100\n",
      "20/20 [==============================] - 0s 892us/step - loss: 0.0058 - accuracy: 1.0000\n",
      "Epoch 85/100\n",
      "20/20 [==============================] - 0s 945us/step - loss: 0.0053 - accuracy: 1.0000\n",
      "Epoch 86/100\n",
      "20/20 [==============================] - 0s 945us/step - loss: 0.0046 - accuracy: 1.0000\n",
      "Epoch 87/100\n",
      "20/20 [==============================] - 0s 944us/step - loss: 0.0051 - accuracy: 1.0000\n",
      "Epoch 88/100\n",
      "20/20 [==============================] - 0s 1ms/step - loss: 0.0046 - accuracy: 1.0000\n",
      "Epoch 89/100\n",
      "20/20 [==============================] - 0s 1ms/step - loss: 0.0059 - accuracy: 1.0000\n",
      "Epoch 90/100\n",
      "20/20 [==============================] - 0s 1ms/step - loss: 0.0062 - accuracy: 1.0000\n",
      "Epoch 91/100\n",
      "20/20 [==============================] - 0s 1ms/step - loss: 0.0041 - accuracy: 1.0000\n",
      "Epoch 92/100\n",
      "20/20 [==============================] - 0s 1ms/step - loss: 0.0036 - accuracy: 1.0000\n",
      "Epoch 93/100\n",
      "20/20 [==============================] - 0s 1ms/step - loss: 0.0038 - accuracy: 1.0000\n",
      "Epoch 94/100\n",
      "20/20 [==============================] - 0s 997us/step - loss: 0.0048 - accuracy: 1.0000\n",
      "Epoch 95/100\n",
      "20/20 [==============================] - 0s 945us/step - loss: 0.0033 - accuracy: 1.0000\n",
      "Epoch 96/100\n",
      "20/20 [==============================] - 0s 997us/step - loss: 0.0038 - accuracy: 1.0000\n",
      "Epoch 97/100\n",
      "20/20 [==============================] - 0s 1ms/step - loss: 0.0028 - accuracy: 1.0000\n",
      "Epoch 98/100\n",
      "20/20 [==============================] - 0s 1ms/step - loss: 0.0034 - accuracy: 1.0000\n",
      "Epoch 99/100\n",
      "20/20 [==============================] - 0s 945us/step - loss: 0.0026 - accuracy: 1.0000\n",
      "Epoch 100/100\n",
      "20/20 [==============================] - 0s 944us/step - loss: 0.0029 - accuracy: 1.0000\n"
     ]
    },
    {
     "data": {
      "text/plain": [
       "<tensorflow.python.keras.callbacks.History at 0x20a36b6e670>"
      ]
     },
     "execution_count": 19,
     "metadata": {},
     "output_type": "execute_result"
    }
   ],
   "source": [
    "model = keras.Sequential([\n",
    "    keras.layers.Dense(60, input_dim=60, activation='relu'),    #1st hidden layer, i/p 60 since 60 cols\n",
    "    keras.layers.Dense(30, activation='relu'),                  #2nd hidden layer\n",
    "    keras.layers.Dense(15, activation='relu'),                  #3rd hidden layer\n",
    "    keras.layers.Dense(1, activation='sigmoid')                 #output layer\n",
    "])\n",
    "\n",
    "model.compile(\n",
    "    loss='binary_crossentropy', \n",
    "    optimizer='adam', \n",
    "    metrics=['accuracy'])\n",
    "\n",
    "model.fit(X_train, y_train, epochs=100, batch_size=8)           #using a batch, feeding 8 samples in each cycle and augment weight and bias accordingly"
   ]
  },
  {
   "cell_type": "code",
   "execution_count": 20,
   "metadata": {},
   "outputs": [
    {
     "name": "stdout",
     "output_type": "stream",
     "text": [
      "2/2 [==============================] - 0s 3ms/step - loss: 0.9787 - accuracy: 0.7308\n"
     ]
    },
    {
     "data": {
      "text/plain": [
       "[0.9786592721939087, 0.7307692170143127]"
      ]
     },
     "execution_count": 20,
     "metadata": {},
     "output_type": "execute_result"
    }
   ],
   "source": [
    "#model is overfitting the training data\n",
    "model.evaluate(X_test, y_test)"
   ]
  },
  {
   "cell_type": "code",
   "execution_count": 21,
   "metadata": {},
   "outputs": [
    {
     "name": "stdout",
     "output_type": "stream",
     "text": [
      "[3.8690811e-09 9.8896551e-01 9.3611544e-01 3.3473607e-05 9.9995339e-01\n",
      " 9.9941730e-01 1.3159630e-01 9.9998653e-01 2.2563849e-05 9.9997461e-01]\n",
      "[0. 1. 1. 0. 1. 1. 0. 1. 0. 1.]\n"
     ]
    }
   ],
   "source": [
    "y_pred = model.predict(X_test).reshape(-1)\n",
    "print(y_pred[:10])\n",
    "\n",
    "# round the values to nearest integer ie 0 or 1\n",
    "y_pred = np.round(y_pred)\n",
    "print(y_pred[:10])"
   ]
  },
  {
   "cell_type": "code",
   "execution_count": 22,
   "metadata": {},
   "outputs": [
    {
     "data": {
      "text/html": [
       "<div>\n",
       "<style scoped>\n",
       "    .dataframe tbody tr th:only-of-type {\n",
       "        vertical-align: middle;\n",
       "    }\n",
       "\n",
       "    .dataframe tbody tr th {\n",
       "        vertical-align: top;\n",
       "    }\n",
       "\n",
       "    .dataframe thead th {\n",
       "        text-align: right;\n",
       "    }\n",
       "</style>\n",
       "<table border=\"1\" class=\"dataframe\">\n",
       "  <thead>\n",
       "    <tr style=\"text-align: right;\">\n",
       "      <th></th>\n",
       "      <th>R</th>\n",
       "    </tr>\n",
       "  </thead>\n",
       "  <tbody>\n",
       "    <tr>\n",
       "      <th>186</th>\n",
       "      <td>0</td>\n",
       "    </tr>\n",
       "    <tr>\n",
       "      <th>155</th>\n",
       "      <td>0</td>\n",
       "    </tr>\n",
       "    <tr>\n",
       "      <th>165</th>\n",
       "      <td>0</td>\n",
       "    </tr>\n",
       "    <tr>\n",
       "      <th>200</th>\n",
       "      <td>0</td>\n",
       "    </tr>\n",
       "    <tr>\n",
       "      <th>58</th>\n",
       "      <td>1</td>\n",
       "    </tr>\n",
       "    <tr>\n",
       "      <th>34</th>\n",
       "      <td>1</td>\n",
       "    </tr>\n",
       "    <tr>\n",
       "      <th>151</th>\n",
       "      <td>0</td>\n",
       "    </tr>\n",
       "    <tr>\n",
       "      <th>18</th>\n",
       "      <td>1</td>\n",
       "    </tr>\n",
       "    <tr>\n",
       "      <th>202</th>\n",
       "      <td>0</td>\n",
       "    </tr>\n",
       "    <tr>\n",
       "      <th>62</th>\n",
       "      <td>1</td>\n",
       "    </tr>\n",
       "  </tbody>\n",
       "</table>\n",
       "</div>"
      ],
      "text/plain": [
       "     R\n",
       "186  0\n",
       "155  0\n",
       "165  0\n",
       "200  0\n",
       "58   1\n",
       "34   1\n",
       "151  0\n",
       "18   1\n",
       "202  0\n",
       "62   1"
      ]
     },
     "execution_count": 22,
     "metadata": {},
     "output_type": "execute_result"
    }
   ],
   "source": [
    "y_test[:10]"
   ]
  },
  {
   "cell_type": "code",
   "execution_count": 23,
   "metadata": {},
   "outputs": [
    {
     "name": "stdout",
     "output_type": "stream",
     "text": [
      "              precision    recall  f1-score   support\n",
      "\n",
      "           0       0.70      0.85      0.77        27\n",
      "           1       0.79      0.60      0.68        25\n",
      "\n",
      "    accuracy                           0.73        52\n",
      "   macro avg       0.74      0.73      0.72        52\n",
      "weighted avg       0.74      0.73      0.73        52\n",
      "\n"
     ]
    }
   ],
   "source": [
    "from sklearn.metrics import confusion_matrix , classification_report\n",
    "\n",
    "print(classification_report(y_test, y_pred))"
   ]
  },
  {
   "cell_type": "markdown",
   "metadata": {},
   "source": [
    "# Model with Dropout Layer"
   ]
  },
  {
   "cell_type": "code",
   "execution_count": 26,
   "metadata": {},
   "outputs": [
    {
     "name": "stdout",
     "output_type": "stream",
     "text": [
      "Epoch 1/100\n",
      "20/20 [==============================] - 1s 1ms/step - loss: 0.7087 - accuracy: 0.5269\n",
      "Epoch 2/100\n",
      "20/20 [==============================] - 0s 2ms/step - loss: 0.7205 - accuracy: 0.4999\n",
      "Epoch 3/100\n",
      "20/20 [==============================] - 0s 1ms/step - loss: 0.7075 - accuracy: 0.5217\n",
      "Epoch 4/100\n",
      "20/20 [==============================] - 0s 1ms/step - loss: 0.7218 - accuracy: 0.5198\n",
      "Epoch 5/100\n",
      "20/20 [==============================] - 0s 1ms/step - loss: 0.7130 - accuracy: 0.4760\n",
      "Epoch 6/100\n",
      "20/20 [==============================] - 0s 1ms/step - loss: 0.7115 - accuracy: 0.4684\n",
      "Epoch 7/100\n",
      "20/20 [==============================] - 0s 2ms/step - loss: 0.6976 - accuracy: 0.4813\n",
      "Epoch 8/100\n",
      "20/20 [==============================] - 0s 1ms/step - loss: 0.6746 - accuracy: 0.5377\n",
      "Epoch 9/100\n",
      "20/20 [==============================] - 0s 1ms/step - loss: 0.7112 - accuracy: 0.5211\n",
      "Epoch 10/100\n",
      "20/20 [==============================] - 0s 2ms/step - loss: 0.6642 - accuracy: 0.6181\n",
      "Epoch 11/100\n",
      "20/20 [==============================] - 0s 2ms/step - loss: 0.6522 - accuracy: 0.5739\n",
      "Epoch 12/100\n",
      "20/20 [==============================] - 0s 2ms/step - loss: 0.6457 - accuracy: 0.6449\n",
      "Epoch 13/100\n",
      "20/20 [==============================] - ETA: 0s - loss: 0.7176 - accuracy: 0.37 - 0s 2ms/step - loss: 0.6930 - accuracy: 0.5397\n",
      "Epoch 14/100\n",
      "20/20 [==============================] - 0s 2ms/step - loss: 0.6671 - accuracy: 0.5934\n",
      "Epoch 15/100\n",
      "20/20 [==============================] - 0s 2ms/step - loss: 0.6587 - accuracy: 0.5243\n",
      "Epoch 16/100\n",
      "20/20 [==============================] - 0s 2ms/step - loss: 0.6772 - accuracy: 0.5820\n",
      "Epoch 17/100\n",
      "20/20 [==============================] - 0s 2ms/step - loss: 0.6588 - accuracy: 0.6871\n",
      "Epoch 18/100\n",
      "20/20 [==============================] - 0s 2ms/step - loss: 0.6620 - accuracy: 0.5749\n",
      "Epoch 19/100\n",
      "20/20 [==============================] - 0s 2ms/step - loss: 0.6474 - accuracy: 0.6598\n",
      "Epoch 20/100\n",
      "20/20 [==============================] - 0s 2ms/step - loss: 0.6416 - accuracy: 0.7001\n",
      "Epoch 21/100\n",
      "20/20 [==============================] - 0s 2ms/step - loss: 0.6597 - accuracy: 0.6400\n",
      "Epoch 22/100\n",
      "20/20 [==============================] - 0s 2ms/step - loss: 0.6151 - accuracy: 0.6735\n",
      "Epoch 23/100\n",
      "20/20 [==============================] - 0s 2ms/step - loss: 0.6349 - accuracy: 0.6615\n",
      "Epoch 24/100\n",
      "20/20 [==============================] - 0s 1ms/step - loss: 0.6495 - accuracy: 0.6387\n",
      "Epoch 25/100\n",
      "20/20 [==============================] - 0s 1ms/step - loss: 0.6393 - accuracy: 0.6473\n",
      "Epoch 26/100\n",
      "20/20 [==============================] - 0s 1ms/step - loss: 0.6394 - accuracy: 0.6567\n",
      "Epoch 27/100\n",
      "20/20 [==============================] - 0s 1ms/step - loss: 0.6183 - accuracy: 0.6755\n",
      "Epoch 28/100\n",
      "20/20 [==============================] - 0s 2ms/step - loss: 0.5946 - accuracy: 0.6562\n",
      "Epoch 29/100\n",
      "20/20 [==============================] - 0s 1ms/step - loss: 0.6055 - accuracy: 0.6688\n",
      "Epoch 30/100\n",
      "20/20 [==============================] - 0s 1ms/step - loss: 0.5623 - accuracy: 0.7388\n",
      "Epoch 31/100\n",
      "20/20 [==============================] - 0s 1ms/step - loss: 0.5844 - accuracy: 0.7275\n",
      "Epoch 32/100\n",
      "20/20 [==============================] - 0s 1ms/step - loss: 0.5320 - accuracy: 0.7624\n",
      "Epoch 33/100\n",
      "20/20 [==============================] - 0s 1ms/step - loss: 0.6697 - accuracy: 0.6085\n",
      "Epoch 34/100\n",
      "20/20 [==============================] - 0s 2ms/step - loss: 0.5912 - accuracy: 0.7060\n",
      "Epoch 35/100\n",
      "20/20 [==============================] - 0s 1ms/step - loss: 0.6038 - accuracy: 0.6817\n",
      "Epoch 36/100\n",
      "20/20 [==============================] - 0s 1ms/step - loss: 0.5815 - accuracy: 0.6997\n",
      "Epoch 37/100\n",
      "20/20 [==============================] - 0s 1ms/step - loss: 0.5815 - accuracy: 0.7648\n",
      "Epoch 38/100\n",
      "20/20 [==============================] - 0s 2ms/step - loss: 0.5287 - accuracy: 0.7172\n",
      "Epoch 39/100\n",
      "20/20 [==============================] - 0s 1ms/step - loss: 0.5169 - accuracy: 0.7535\n",
      "Epoch 40/100\n",
      "20/20 [==============================] - 0s 1ms/step - loss: 0.5624 - accuracy: 0.7075\n",
      "Epoch 41/100\n",
      "20/20 [==============================] - 0s 1ms/step - loss: 0.5142 - accuracy: 0.7848\n",
      "Epoch 42/100\n",
      "20/20 [==============================] - 0s 1ms/step - loss: 0.5380 - accuracy: 0.7307\n",
      "Epoch 43/100\n",
      "20/20 [==============================] - 0s 997us/step - loss: 0.5312 - accuracy: 0.7096\n",
      "Epoch 44/100\n",
      "20/20 [==============================] - 0s 1ms/step - loss: 0.5757 - accuracy: 0.7141\n",
      "Epoch 45/100\n",
      "20/20 [==============================] - 0s 1ms/step - loss: 0.5747 - accuracy: 0.7045\n",
      "Epoch 46/100\n",
      "20/20 [==============================] - 0s 1ms/step - loss: 0.5825 - accuracy: 0.7386\n",
      "Epoch 47/100\n",
      "20/20 [==============================] - 0s 1ms/step - loss: 0.5039 - accuracy: 0.7535\n",
      "Epoch 48/100\n",
      "20/20 [==============================] - 0s 1ms/step - loss: 0.4772 - accuracy: 0.7823\n",
      "Epoch 49/100\n",
      "20/20 [==============================] - 0s 1ms/step - loss: 0.5406 - accuracy: 0.7704\n",
      "Epoch 50/100\n",
      "20/20 [==============================] - 0s 1ms/step - loss: 0.4665 - accuracy: 0.8062\n",
      "Epoch 51/100\n",
      "20/20 [==============================] - 0s 1ms/step - loss: 0.5190 - accuracy: 0.7439\n",
      "Epoch 52/100\n",
      "20/20 [==============================] - 0s 1ms/step - loss: 0.4528 - accuracy: 0.8191\n",
      "Epoch 53/100\n",
      "20/20 [==============================] - 0s 2ms/step - loss: 0.5538 - accuracy: 0.7355\n",
      "Epoch 54/100\n",
      "20/20 [==============================] - 0s 1ms/step - loss: 0.5168 - accuracy: 0.7901\n",
      "Epoch 55/100\n",
      "20/20 [==============================] - 0s 1ms/step - loss: 0.4991 - accuracy: 0.7636\n",
      "Epoch 56/100\n",
      "20/20 [==============================] - 0s 2ms/step - loss: 0.4562 - accuracy: 0.8368\n",
      "Epoch 57/100\n",
      "20/20 [==============================] - 0s 1ms/step - loss: 0.5183 - accuracy: 0.7883\n",
      "Epoch 58/100\n",
      "20/20 [==============================] - 0s 1ms/step - loss: 0.4300 - accuracy: 0.8366\n",
      "Epoch 59/100\n",
      "20/20 [==============================] - 0s 1ms/step - loss: 0.4910 - accuracy: 0.7573\n",
      "Epoch 60/100\n",
      "20/20 [==============================] - 0s 1ms/step - loss: 0.4304 - accuracy: 0.7905\n",
      "Epoch 61/100\n",
      "20/20 [==============================] - 0s 1ms/step - loss: 0.4390 - accuracy: 0.8300\n",
      "Epoch 62/100\n",
      "20/20 [==============================] - 0s 1ms/step - loss: 0.4264 - accuracy: 0.8385\n",
      "Epoch 63/100\n",
      "20/20 [==============================] - 0s 997us/step - loss: 0.4384 - accuracy: 0.8132\n",
      "Epoch 64/100\n",
      "20/20 [==============================] - 0s 1ms/step - loss: 0.3990 - accuracy: 0.8137\n",
      "Epoch 65/100\n",
      "20/20 [==============================] - 0s 1ms/step - loss: 0.4275 - accuracy: 0.8207\n",
      "Epoch 66/100\n",
      "20/20 [==============================] - 0s 2ms/step - loss: 0.4503 - accuracy: 0.8150\n",
      "Epoch 67/100\n",
      "20/20 [==============================] - 0s 1ms/step - loss: 0.4392 - accuracy: 0.7884\n",
      "Epoch 68/100\n",
      "20/20 [==============================] - 0s 892us/step - loss: 0.4387 - accuracy: 0.8635\n",
      "Epoch 69/100\n",
      "20/20 [==============================] - 0s 1ms/step - loss: 0.4075 - accuracy: 0.8165\n",
      "Epoch 70/100\n",
      "20/20 [==============================] - 0s 1ms/step - loss: 0.3909 - accuracy: 0.9056\n",
      "Epoch 71/100\n",
      "20/20 [==============================] - 0s 1ms/step - loss: 0.3861 - accuracy: 0.8496\n",
      "Epoch 72/100\n",
      "20/20 [==============================] - 0s 1ms/step - loss: 0.3709 - accuracy: 0.8649\n",
      "Epoch 73/100\n",
      "20/20 [==============================] - 0s 1ms/step - loss: 0.3980 - accuracy: 0.7924\n",
      "Epoch 74/100\n",
      "20/20 [==============================] - 0s 1ms/step - loss: 0.3349 - accuracy: 0.8506\n",
      "Epoch 75/100\n",
      "20/20 [==============================] - 0s 1ms/step - loss: 0.2893 - accuracy: 0.9097\n",
      "Epoch 76/100\n",
      "20/20 [==============================] - 0s 1ms/step - loss: 0.3990 - accuracy: 0.7903\n",
      "Epoch 77/100\n",
      "20/20 [==============================] - 0s 1ms/step - loss: 0.3761 - accuracy: 0.8515\n",
      "Epoch 78/100\n",
      "20/20 [==============================] - 0s 1ms/step - loss: 0.3917 - accuracy: 0.8426\n",
      "Epoch 79/100\n",
      "20/20 [==============================] - 0s 1ms/step - loss: 0.3740 - accuracy: 0.8792\n",
      "Epoch 80/100\n",
      "20/20 [==============================] - 0s 1ms/step - loss: 0.3967 - accuracy: 0.8745\n",
      "Epoch 81/100\n",
      "20/20 [==============================] - 0s 1ms/step - loss: 0.3506 - accuracy: 0.8911\n",
      "Epoch 82/100\n",
      "20/20 [==============================] - 0s 1ms/step - loss: 0.3296 - accuracy: 0.9219\n",
      "Epoch 83/100\n",
      "20/20 [==============================] - 0s 1ms/step - loss: 0.3407 - accuracy: 0.8823\n",
      "Epoch 84/100\n",
      "20/20 [==============================] - 0s 997us/step - loss: 0.3131 - accuracy: 0.9013\n",
      "Epoch 85/100\n",
      "20/20 [==============================] - 0s 1ms/step - loss: 0.3523 - accuracy: 0.8549\n",
      "Epoch 86/100\n",
      "20/20 [==============================] - 0s 1ms/step - loss: 0.2925 - accuracy: 0.8747\n",
      "Epoch 87/100\n",
      "20/20 [==============================] - 0s 1ms/step - loss: 0.3962 - accuracy: 0.8253\n",
      "Epoch 88/100\n",
      "20/20 [==============================] - 0s 1ms/step - loss: 0.3772 - accuracy: 0.8353\n",
      "Epoch 89/100\n",
      "20/20 [==============================] - 0s 1ms/step - loss: 0.3673 - accuracy: 0.8873\n",
      "Epoch 90/100\n",
      "20/20 [==============================] - 0s 1ms/step - loss: 0.3393 - accuracy: 0.8729\n",
      "Epoch 91/100\n",
      "20/20 [==============================] - 0s 1ms/step - loss: 0.2904 - accuracy: 0.8838\n",
      "Epoch 92/100\n",
      "20/20 [==============================] - 0s 997us/step - loss: 0.2876 - accuracy: 0.8832\n",
      "Epoch 93/100\n",
      "20/20 [==============================] - 0s 1ms/step - loss: 0.2680 - accuracy: 0.9057\n",
      "Epoch 94/100\n",
      "20/20 [==============================] - 0s 1ms/step - loss: 0.4343 - accuracy: 0.8286\n",
      "Epoch 95/100\n",
      "20/20 [==============================] - 0s 1ms/step - loss: 0.2422 - accuracy: 0.8893\n",
      "Epoch 96/100\n",
      "20/20 [==============================] - 0s 997us/step - loss: 0.3506 - accuracy: 0.8795\n",
      "Epoch 97/100\n",
      "20/20 [==============================] - 0s 1ms/step - loss: 0.1957 - accuracy: 0.9589\n",
      "Epoch 98/100\n",
      "20/20 [==============================] - 0s 1ms/step - loss: 0.3632 - accuracy: 0.8834\n",
      "Epoch 99/100\n",
      "20/20 [==============================] - 0s 1ms/step - loss: 0.3303 - accuracy: 0.8838\n",
      "Epoch 100/100\n",
      "20/20 [==============================] - 0s 1ms/step - loss: 0.3238 - accuracy: 0.8310\n"
     ]
    },
    {
     "data": {
      "text/plain": [
       "<tensorflow.python.keras.callbacks.History at 0x20a3adf5d30>"
      ]
     },
     "execution_count": 26,
     "metadata": {},
     "output_type": "execute_result"
    }
   ],
   "source": [
    "#introducing dropout layers, usually placed after a hidden layer\n",
    "\n",
    "modeld = keras.Sequential([\n",
    "    keras.layers.Dense(60, input_dim=60, activation='relu'),\n",
    "    keras.layers.Dropout(0.5),                         #50% dropout rate\n",
    "    keras.layers.Dense(30, activation='relu'),\n",
    "    keras.layers.Dropout(0.5),\n",
    "    keras.layers.Dense(15, activation='relu'),\n",
    "    keras.layers.Dropout(0.5),\n",
    "    keras.layers.Dense(1, activation='sigmoid')\n",
    "])\n",
    "\n",
    "modeld.compile(loss='binary_crossentropy', optimizer='adam', metrics=['accuracy'])\n",
    "\n",
    "modeld.fit(X_train, y_train, epochs=100, batch_size=8)"
   ]
  },
  {
   "cell_type": "code",
   "execution_count": 27,
   "metadata": {},
   "outputs": [
    {
     "name": "stdout",
     "output_type": "stream",
     "text": [
      "2/2 [==============================] - 0s 2ms/step - loss: 0.4366 - accuracy: 0.8077\n"
     ]
    },
    {
     "data": {
      "text/plain": [
       "[0.43663305044174194, 0.807692289352417]"
      ]
     },
     "execution_count": 27,
     "metadata": {},
     "output_type": "execute_result"
    }
   ],
   "source": [
    "modeld.evaluate(X_test, y_test)"
   ]
  },
  {
   "cell_type": "code",
   "execution_count": 28,
   "metadata": {},
   "outputs": [
    {
     "name": "stdout",
     "output_type": "stream",
     "text": [
      "[0.00120014 0.7940334  0.9691595  0.05757672 0.9999163  0.95579314\n",
      " 0.2682621  0.9998723  0.05902439 0.9999768 ]\n",
      "[0. 1. 1. 0. 1. 1. 0. 1. 0. 1.]\n"
     ]
    }
   ],
   "source": [
    "y_pred = modeld.predict(X_test).reshape(-1)\n",
    "print(y_pred[:10])\n",
    "\n",
    "# round the values to nearest integer ie 0 or 1\n",
    "y_pred = np.round(y_pred)\n",
    "print(y_pred[:10])"
   ]
  },
  {
   "cell_type": "code",
   "execution_count": 29,
   "metadata": {},
   "outputs": [
    {
     "name": "stdout",
     "output_type": "stream",
     "text": [
      "              precision    recall  f1-score   support\n",
      "\n",
      "           0       0.81      0.81      0.81        27\n",
      "           1       0.80      0.80      0.80        25\n",
      "\n",
      "    accuracy                           0.81        52\n",
      "   macro avg       0.81      0.81      0.81        52\n",
      "weighted avg       0.81      0.81      0.81        52\n",
      "\n"
     ]
    }
   ],
   "source": [
    "from sklearn.metrics import confusion_matrix , classification_report\n",
    "\n",
    "print(classification_report(y_test, y_pred))"
   ]
  },
  {
   "cell_type": "code",
   "execution_count": null,
   "metadata": {},
   "outputs": [],
   "source": []
  }
 ],
 "metadata": {
  "kernelspec": {
   "display_name": "Python 3",
   "language": "python",
   "name": "python3"
  },
  "language_info": {
   "codemirror_mode": {
    "name": "ipython",
    "version": 3
   },
   "file_extension": ".py",
   "mimetype": "text/x-python",
   "name": "python",
   "nbconvert_exporter": "python",
   "pygments_lexer": "ipython3",
   "version": "3.8.5"
  }
 },
 "nbformat": 4,
 "nbformat_minor": 4
}
