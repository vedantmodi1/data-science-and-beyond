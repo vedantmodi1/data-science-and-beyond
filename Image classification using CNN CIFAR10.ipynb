{
 "cells": [
  {
   "cell_type": "code",
   "execution_count": 1,
   "metadata": {},
   "outputs": [],
   "source": [
    "import tensorflow as tf\n",
    "from tensorflow.keras import datasets, layers, models\n",
    "import matplotlib.pyplot as plt\n",
    "import numpy as np"
   ]
  },
  {
   "cell_type": "code",
   "execution_count": 2,
   "metadata": {},
   "outputs": [
    {
     "name": "stdout",
     "output_type": "stream",
     "text": [
      "Downloading data from https://www.cs.toronto.edu/~kriz/cifar-10-python.tar.gz\n",
      "170500096/170498071 [==============================] - 38s 0us/step\n"
     ]
    },
    {
     "data": {
      "text/plain": [
       "(50000, 32, 32, 3)"
      ]
     },
     "execution_count": 2,
     "metadata": {},
     "output_type": "execute_result"
    }
   ],
   "source": [
    "(X_train, y_train), (X_test, y_test) = datasets.cifar10.load_data()\n",
    "X_train.shape\n",
    "#50000 images, each 32x32, 3 rgb colours"
   ]
  },
  {
   "cell_type": "code",
   "execution_count": 3,
   "metadata": {},
   "outputs": [
    {
     "data": {
      "text/plain": [
       "(10000, 32, 32, 3)"
      ]
     },
     "execution_count": 3,
     "metadata": {},
     "output_type": "execute_result"
    }
   ],
   "source": [
    "X_test.shape"
   ]
  },
  {
   "cell_type": "code",
   "execution_count": 12,
   "metadata": {},
   "outputs": [
    {
     "data": {
      "text/plain": [
       "(50000, 1)"
      ]
     },
     "execution_count": 12,
     "metadata": {},
     "output_type": "execute_result"
    }
   ],
   "source": [
    "y_train.shape"
   ]
  },
  {
   "cell_type": "code",
   "execution_count": 13,
   "metadata": {},
   "outputs": [
    {
     "data": {
      "text/plain": [
       "array([[6],\n",
       "       [9],\n",
       "       [9],\n",
       "       [4],\n",
       "       [1]], dtype=uint8)"
      ]
     },
     "execution_count": 13,
     "metadata": {},
     "output_type": "execute_result"
    }
   ],
   "source": [
    "y_train[:5]"
   ]
  },
  {
   "cell_type": "code",
   "execution_count": 14,
   "metadata": {},
   "outputs": [
    {
     "data": {
      "text/plain": [
       "array([6, 9, 9, 4, 1], dtype=uint8)"
      ]
     },
     "execution_count": 14,
     "metadata": {},
     "output_type": "execute_result"
    }
   ],
   "source": [
    "#converting from 2d array to 1d\n",
    "y_train = y_train.reshape(-1,)      #-1> first dimension is unchanged, blank> second dimension is dropped\n",
    "y_train[:5]"
   ]
  },
  {
   "cell_type": "code",
   "execution_count": 15,
   "metadata": {},
   "outputs": [],
   "source": [
    "classes = [\"airplane\", \"automobile\", \"bird\", \"cat\", \"deer\", \"dog\", \"frog\", \"horse\", \"ship\", \"truck\"]"
   ]
  },
  {
   "cell_type": "code",
   "execution_count": 16,
   "metadata": {},
   "outputs": [
    {
     "data": {
      "text/plain": [
       "'truck'"
      ]
     },
     "execution_count": 16,
     "metadata": {},
     "output_type": "execute_result"
    }
   ],
   "source": [
    "classes[9]"
   ]
  },
  {
   "cell_type": "code",
   "execution_count": 17,
   "metadata": {},
   "outputs": [],
   "source": [
    "def plot_sample(X, y, index):\n",
    "    plt.figure(figsize = (15, 2))\n",
    "    plt.imshow(X[index])\n",
    "    plt.xlabel(classes[y[index]])"
   ]
  },
  {
   "cell_type": "code",
   "execution_count": 18,
   "metadata": {},
   "outputs": [
    {
     "data": {
      "image/png": "[encoded data removed]",
      "text/plain": [
       "<Figure size 1080x144 with 1 Axes>"
      ]
     },
     "metadata": {
      "needs_background": "light"
     },
     "output_type": "display_data"
    }
   ],
   "source": [
    "plot_sample(X_train, y_train, 0)"
   ]
  },
  {
   "cell_type": "code",
   "execution_count": 19,
   "metadata": {},
   "outputs": [
    {
     "data": {
      "image/png": "[encoded data removed]",
      "text/plain": [
       "<Figure size 1080x144 with 1 Axes>"
      ]
     },
     "metadata": {
      "needs_background": "light"
     },
     "output_type": "display_data"
    }
   ],
   "source": [
    "plot_sample(X_train, y_train, 1)"
   ]
  },
  {
   "cell_type": "markdown",
   "metadata": {},
   "source": [
    "# Normalize data "
   ]
  },
  {
   "cell_type": "code",
   "execution_count": 20,
   "metadata": {},
   "outputs": [],
   "source": [
    "#values range from 0-255\n",
    "X_train = X_train / 255\n",
    "X_test = X_test / 255"
   ]
  },
  {
   "cell_type": "markdown",
   "metadata": {},
   "source": [
    "# Simple ANN to compare"
   ]
  },
  {
   "cell_type": "code",
   "execution_count": 23,
   "metadata": {},
   "outputs": [
    {
     "name": "stdout",
     "output_type": "stream",
     "text": [
      "Epoch 1/5\n",
      "1563/1563 [==============================] - 94s 60ms/step - loss: 1.9290 - accuracy: 0.3032\n",
      "Epoch 2/5\n",
      "1563/1563 [==============================] - 80s 51ms/step - loss: 1.6433 - accuracy: 0.4177\n",
      "Epoch 3/5\n",
      "1563/1563 [==============================] - 80s 51ms/step - loss: 1.5558 - accuracy: 0.4491\n",
      "Epoch 4/5\n",
      "1563/1563 [==============================] - 80s 51ms/step - loss: 1.4885 - accuracy: 0.4735\n",
      "Epoch 5/5\n",
      "1563/1563 [==============================] - 95s 61ms/step - loss: 1.4336 - accuracy: 0.4977\n"
     ]
    },
    {
     "data": {
      "text/plain": [
       "<tensorflow.python.keras.callbacks.History at 0x27e80cc31c0>"
      ]
     },
     "execution_count": 23,
     "metadata": {},
     "output_type": "execute_result"
    }
   ],
   "source": [
    "ann = models.Sequential([\n",
    "    layers.Flatten(input_shape=(32,32,3)),       #flatten i/p layer acctepting 32x32x3 image\n",
    "    layers.Dense(3000, activation='relu'),       #3000 neurons\n",
    "    layers.Dense(1000, activation='relu'),       #1000 neurons\n",
    "    layers.Dense(10, activation='sigmoid')       #10 o/p category neurons\n",
    "])\n",
    "\n",
    "ann.compile(optimizer='SGD',\n",
    "           loss='sparse_categorical_crossentropy',\n",
    "           metrics=['accuracy'])\n",
    "\n",
    "ann.fit(X_train, y_train, epochs=5)"
   ]
  },
  {
   "cell_type": "code",
   "execution_count": 25,
   "metadata": {},
   "outputs": [
    {
     "name": "stdout",
     "output_type": "stream",
     "text": [
      "Classification Report: \n",
      "               precision    recall  f1-score   support\n",
      "\n",
      "           0       0.57      0.47      0.51      1000\n",
      "           1       0.66      0.54      0.59      1000\n",
      "           2       0.32      0.46      0.38      1000\n",
      "           3       0.26      0.56      0.36      1000\n",
      "           4       0.57      0.23      0.33      1000\n",
      "           5       0.36      0.38      0.37      1000\n",
      "           6       0.60      0.41      0.49      1000\n",
      "           7       0.45      0.67      0.54      1000\n",
      "           8       0.80      0.35      0.49      1000\n",
      "           9       0.63      0.45      0.53      1000\n",
      "\n",
      "    accuracy                           0.45     10000\n",
      "   macro avg       0.52      0.45      0.46     10000\n",
      "weighted avg       0.52      0.45      0.46     10000\n",
      "\n"
     ]
    }
   ],
   "source": [
    "from sklearn.metrics import confusion_matrix , classification_report\n",
    "import numpy as np\n",
    "y_pred = ann.predict(X_test)\n",
    "y_pred_classes = [np.argmax(element) for element in y_pred]\n",
    "\n",
    "print(\"Classification Report: \\n\", classification_report(y_test, y_pred_classes))"
   ]
  },
  {
   "cell_type": "code",
   "execution_count": null,
   "metadata": {},
   "outputs": [],
   "source": [
    "#accuracy is precision is quite low"
   ]
  },
  {
   "cell_type": "markdown",
   "metadata": {},
   "source": [
    "# CNN"
   ]
  },
  {
   "cell_type": "code",
   "execution_count": 30,
   "metadata": {},
   "outputs": [],
   "source": [
    "cnn = models.Sequential([\n",
    "    #cnn layers set 1\n",
    "    layers.Conv2D(filters = 32, activation = 'relu', kernel_size=(3,3), input_shape = (32,32,3)),                             #conv layer, filters are figured out automaticaly\n",
    "    #32 filters > can detect 32 different features\n",
    "    #Kernel size > size of filter\n",
    "    layers.MaxPooling2D(2,2),\n",
    "    \n",
    "    #cnn layers set 2\n",
    "    layers.Conv2D(filters = 32, activation = 'relu', kernel_size=(3,3), input_shape = (32,32,3)),                             \n",
    "    layers.MaxPooling2D(2,2),\n",
    "    \n",
    "    #dense layers\n",
    "    layers.Flatten(),                            #flatten layer, i/p size figured automaticaly\n",
    "    layers.Dense(64, activation='relu'),         #need few neurons sinxe conv has done most work\n",
    "    layers.Dense(10, activation='softmax')       #10 o/p category neurons, softmax: normalizes the probability output\n",
    "])"
   ]
  },
  {
   "cell_type": "code",
   "execution_count": 32,
   "metadata": {},
   "outputs": [],
   "source": [
    "cnn.compile(optimizer = 'adam',\n",
    "             loss = 'sparse_categorical_crossentropy',\n",
    "             metrics=['accuracy'])"
   ]
  },
  {
   "cell_type": "code",
   "execution_count": 33,
   "metadata": {},
   "outputs": [
    {
     "name": "stdout",
     "output_type": "stream",
     "text": [
      "Epoch 1/10\n",
      "1563/1563 [==============================] - 41s 25ms/step - loss: 1.7289 - accuracy: 0.3685\n",
      "Epoch 2/10\n",
      "1563/1563 [==============================] - 39s 25ms/step - loss: 1.2244 - accuracy: 0.5670\n",
      "Epoch 3/10\n",
      "1563/1563 [==============================] - 32s 20ms/step - loss: 1.0890 - accuracy: 0.6199\n",
      "Epoch 4/10\n",
      "1563/1563 [==============================] - 32s 20ms/step - loss: 0.9908 - accuracy: 0.6578\n",
      "Epoch 5/10\n",
      "1563/1563 [==============================] - 32s 21ms/step - loss: 0.9185 - accuracy: 0.6824\n",
      "Epoch 6/10\n",
      "1563/1563 [==============================] - 32s 20ms/step - loss: 0.8758 - accuracy: 0.6949\n",
      "Epoch 7/10\n",
      "1563/1563 [==============================] - 32s 20ms/step - loss: 0.8279 - accuracy: 0.7093\n",
      "Epoch 8/10\n",
      "1563/1563 [==============================] - 32s 20ms/step - loss: 0.7822 - accuracy: 0.7277\n",
      "Epoch 9/10\n",
      "1563/1563 [==============================] - 31s 20ms/step - loss: 0.7443 - accuracy: 0.74210s - loss: 0.744\n",
      "Epoch 10/10\n",
      "1563/1563 [==============================] - 32s 21ms/step - loss: 0.7118 - accuracy: 0.7520TA: 0s - loss: 0.7118 - accuracy: 0.75\n"
     ]
    },
    {
     "data": {
      "text/plain": [
       "<tensorflow.python.keras.callbacks.History at 0x27ee4858b80>"
      ]
     },
     "execution_count": 33,
     "metadata": {},
     "output_type": "execute_result"
    }
   ],
   "source": [
    "cnn.fit(X_train, y_train, epochs=10)"
   ]
  },
  {
   "cell_type": "code",
   "execution_count": 34,
   "metadata": {},
   "outputs": [
    {
     "name": "stdout",
     "output_type": "stream",
     "text": [
      "313/313 [==============================] - 2s 4ms/step - loss: 0.8991 - accuracy: 0.6961\n"
     ]
    },
    {
     "data": {
      "text/plain": [
       "[0.899124801158905, 0.6960999965667725]"
      ]
     },
     "execution_count": 34,
     "metadata": {},
     "output_type": "execute_result"
    }
   ],
   "source": [
    "cnn.evaluate(X_test, y_test)"
   ]
  },
  {
   "cell_type": "code",
   "execution_count": 35,
   "metadata": {},
   "outputs": [
    {
     "data": {
      "image/png": "[encoded data removed]",
      "text/plain": [
       "<Figure size 1080x144 with 1 Axes>"
      ]
     },
     "metadata": {
      "needs_background": "light"
     },
     "output_type": "display_data"
    }
   ],
   "source": [
    "y_test = y_test.reshape(-1,)\n",
    "plot_sample(X_test, y_test, 1)"
   ]
  },
  {
   "cell_type": "code",
   "execution_count": 36,
   "metadata": {},
   "outputs": [
    {
     "data": {
      "text/plain": [
       "array([[4.6053980e-03, 5.0063926e-04, 8.6147888e-03, 5.4808408e-01,\n",
       "        4.4334922e-03, 3.3799681e-01, 5.7502195e-02, 1.2085753e-02,\n",
       "        2.1919359e-02, 4.2574694e-03],\n",
       "       [2.5011590e-05, 6.0957335e-03, 2.0712191e-07, 2.1939040e-06,\n",
       "        1.9311676e-08, 4.9927160e-09, 6.3819825e-09, 6.0653808e-11,\n",
       "        9.9384129e-01, 3.5489189e-05],\n",
       "       [1.0355023e-01, 1.0238977e-01, 8.8358838e-03, 4.6557970e-03,\n",
       "        1.0369928e-03, 8.1187580e-04, 5.0308456e-04, 2.5554016e-04,\n",
       "        7.6699942e-01, 1.0961390e-02],\n",
       "       [5.3445250e-01, 9.6094580e-03, 3.3158991e-02, 2.5890503e-02,\n",
       "        1.4434049e-03, 1.0073717e-03, 3.7233096e-02, 9.6856238e-05,\n",
       "        3.5525978e-01, 1.8480957e-03],\n",
       "       [1.1096424e-05, 2.5579450e-04, 5.3203210e-02, 2.1724874e-02,\n",
       "        1.8408462e-01, 7.3105772e-03, 7.3238713e-01, 1.6270231e-05,\n",
       "        9.9417532e-04, 1.2297964e-05]], dtype=float32)"
      ]
     },
     "execution_count": 36,
     "metadata": {},
     "output_type": "execute_result"
    }
   ],
   "source": [
    "y_pred = cnn.predict(X_test)\n",
    "y_pred[:5]"
   ]
  },
  {
   "cell_type": "code",
   "execution_count": 40,
   "metadata": {},
   "outputs": [
    {
     "data": {
      "text/plain": [
       "[3, 8, 8, 0, 6, 6, 1, 6, 3, 1]"
      ]
     },
     "execution_count": 40,
     "metadata": {},
     "output_type": "execute_result"
    }
   ],
   "source": [
    "#argmax gives index of highest value\n",
    "y_classes = [np.argmax(element) for element in y_pred]\n",
    "y_classes[:10]"
   ]
  },
  {
   "cell_type": "code",
   "execution_count": 39,
   "metadata": {},
   "outputs": [
    {
     "data": {
      "text/plain": [
       "array([3, 8, 8, 0, 6, 6, 1, 6, 3, 1], dtype=uint8)"
      ]
     },
     "execution_count": 39,
     "metadata": {},
     "output_type": "execute_result"
    }
   ],
   "source": [
    "y_test[:10]"
   ]
  },
  {
   "cell_type": "code",
   "execution_count": 41,
   "metadata": {},
   "outputs": [
    {
     "data": {
      "image/png": "[encoded data removed]",
      "text/plain": [
       "<Figure size 1080x144 with 1 Axes>"
      ]
     },
     "metadata": {
      "needs_background": "light"
     },
     "output_type": "display_data"
    }
   ],
   "source": [
    "plot_sample(X_test, y_test, 1)"
   ]
  },
  {
   "cell_type": "code",
   "execution_count": 42,
   "metadata": {},
   "outputs": [
    {
     "data": {
      "text/plain": [
       "'ship'"
      ]
     },
     "execution_count": 42,
     "metadata": {},
     "output_type": "execute_result"
    }
   ],
   "source": [
    "classes[y_classes[1]]"
   ]
  },
  {
   "cell_type": "code",
   "execution_count": 43,
   "metadata": {},
   "outputs": [
    {
     "name": "stdout",
     "output_type": "stream",
     "text": [
      "Classification Report: \n",
      "               precision    recall  f1-score   support\n",
      "\n",
      "           0       0.73      0.74      0.73      1000\n",
      "           1       0.81      0.80      0.80      1000\n",
      "           2       0.59      0.57      0.58      1000\n",
      "           3       0.53      0.47      0.50      1000\n",
      "           4       0.71      0.59      0.65      1000\n",
      "           5       0.61      0.58      0.59      1000\n",
      "           6       0.67      0.86      0.75      1000\n",
      "           7       0.73      0.78      0.75      1000\n",
      "           8       0.78      0.82      0.80      1000\n",
      "           9       0.79      0.74      0.76      1000\n",
      "\n",
      "    accuracy                           0.70     10000\n",
      "   macro avg       0.69      0.70      0.69     10000\n",
      "weighted avg       0.69      0.70      0.69     10000\n",
      "\n"
     ]
    }
   ],
   "source": [
    "print(\"Classification Report: \\n\", classification_report(y_test, y_classes))"
   ]
  },
  {
   "cell_type": "code",
   "execution_count": null,
   "metadata": {},
   "outputs": [],
   "source": []
  }
 ],
 "metadata": {
  "kernelspec": {
   "display_name": "Python 3",
   "language": "python",
   "name": "python3"
  },
  "language_info": {
   "codemirror_mode": {
    "name": "ipython",
    "version": 3
   },
   "file_extension": ".py",
   "mimetype": "text/x-python",
   "name": "python",
   "nbconvert_exporter": "python",
   "pygments_lexer": "ipython3",
   "version": "3.8.5"
  }
 },
 "nbformat": 4,
 "nbformat_minor": 4
}
