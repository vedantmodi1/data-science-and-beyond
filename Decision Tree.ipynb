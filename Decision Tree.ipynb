{
 "cells": [
  {
   "cell_type": "code",
   "execution_count": 139,
   "metadata": {},
   "outputs": [],
   "source": [
    "import numpy as np\n",
    "import matplotlib.pyplot as plt\n",
    "import pandas as pd"
   ]
  },
  {
   "cell_type": "code",
   "execution_count": 158,
   "metadata": {},
   "outputs": [],
   "source": [
    "dataset = pd.read_csv('2010-capitalbikeshare-tripdata.csv')"
   ]
  },
  {
   "cell_type": "code",
   "execution_count": 159,
   "metadata": {
    "scrolled": true
   },
   "outputs": [
    {
     "data": {
      "text/html": [
       "<div>\n",
       "<style scoped>\n",
       "    .dataframe tbody tr th:only-of-type {\n",
       "        vertical-align: middle;\n",
       "    }\n",
       "\n",
       "    .dataframe tbody tr th {\n",
       "        vertical-align: top;\n",
       "    }\n",
       "\n",
       "    .dataframe thead th {\n",
       "        text-align: right;\n",
       "    }\n",
       "</style>\n",
       "<table border=\"1\" class=\"dataframe\">\n",
       "  <thead>\n",
       "    <tr style=\"text-align: right;\">\n",
       "      <th></th>\n",
       "      <th>Duration</th>\n",
       "      <th>Start date</th>\n",
       "      <th>End date</th>\n",
       "      <th>Start station number</th>\n",
       "      <th>Start station</th>\n",
       "      <th>End station number</th>\n",
       "      <th>End station</th>\n",
       "      <th>Bike number</th>\n",
       "      <th>Member type</th>\n",
       "    </tr>\n",
       "  </thead>\n",
       "  <tbody>\n",
       "    <tr>\n",
       "      <th>0</th>\n",
       "      <td>1012</td>\n",
       "      <td>2010-09-20 11:27:04</td>\n",
       "      <td>2010-09-20 11:43:56</td>\n",
       "      <td>31208</td>\n",
       "      <td>M St &amp; New Jersey Ave SE</td>\n",
       "      <td>31108</td>\n",
       "      <td>4th &amp; M St SW</td>\n",
       "      <td>W00742</td>\n",
       "      <td>Member</td>\n",
       "    </tr>\n",
       "    <tr>\n",
       "      <th>1</th>\n",
       "      <td>61</td>\n",
       "      <td>2010-09-20 11:41:22</td>\n",
       "      <td>2010-09-20 11:42:23</td>\n",
       "      <td>31209</td>\n",
       "      <td>1st &amp; N St  SE</td>\n",
       "      <td>31209</td>\n",
       "      <td>1st &amp; N St  SE</td>\n",
       "      <td>W00032</td>\n",
       "      <td>Member</td>\n",
       "    </tr>\n",
       "    <tr>\n",
       "      <th>2</th>\n",
       "      <td>2690</td>\n",
       "      <td>2010-09-20 12:05:37</td>\n",
       "      <td>2010-09-20 12:50:27</td>\n",
       "      <td>31600</td>\n",
       "      <td>5th &amp; K St NW</td>\n",
       "      <td>31100</td>\n",
       "      <td>19th St &amp; Pennsylvania Ave NW</td>\n",
       "      <td>W00993</td>\n",
       "      <td>Member</td>\n",
       "    </tr>\n",
       "    <tr>\n",
       "      <th>3</th>\n",
       "      <td>1406</td>\n",
       "      <td>2010-09-20 12:06:05</td>\n",
       "      <td>2010-09-20 12:29:32</td>\n",
       "      <td>31600</td>\n",
       "      <td>5th &amp; K St NW</td>\n",
       "      <td>31602</td>\n",
       "      <td>Park Rd &amp; Holmead Pl NW</td>\n",
       "      <td>W00344</td>\n",
       "      <td>Member</td>\n",
       "    </tr>\n",
       "    <tr>\n",
       "      <th>4</th>\n",
       "      <td>1413</td>\n",
       "      <td>2010-09-20 12:10:43</td>\n",
       "      <td>2010-09-20 12:34:17</td>\n",
       "      <td>31100</td>\n",
       "      <td>19th St &amp; Pennsylvania Ave NW</td>\n",
       "      <td>31201</td>\n",
       "      <td>15th &amp; P St NW</td>\n",
       "      <td>W00883</td>\n",
       "      <td>Member</td>\n",
       "    </tr>\n",
       "  </tbody>\n",
       "</table>\n",
       "</div>"
      ],
      "text/plain": [
       "   Duration           Start date             End date  Start station number  \\\n",
       "0      1012  2010-09-20 11:27:04  2010-09-20 11:43:56                 31208   \n",
       "1        61  2010-09-20 11:41:22  2010-09-20 11:42:23                 31209   \n",
       "2      2690  2010-09-20 12:05:37  2010-09-20 12:50:27                 31600   \n",
       "3      1406  2010-09-20 12:06:05  2010-09-20 12:29:32                 31600   \n",
       "4      1413  2010-09-20 12:10:43  2010-09-20 12:34:17                 31100   \n",
       "\n",
       "                   Start station  End station number  \\\n",
       "0       M St & New Jersey Ave SE               31108   \n",
       "1                 1st & N St  SE               31209   \n",
       "2                  5th & K St NW               31100   \n",
       "3                  5th & K St NW               31602   \n",
       "4  19th St & Pennsylvania Ave NW               31201   \n",
       "\n",
       "                     End station Bike number Member type  \n",
       "0                  4th & M St SW      W00742      Member  \n",
       "1                 1st & N St  SE      W00032      Member  \n",
       "2  19th St & Pennsylvania Ave NW      W00993      Member  \n",
       "3        Park Rd & Holmead Pl NW      W00344      Member  \n",
       "4                 15th & P St NW      W00883      Member  "
      ]
     },
     "execution_count": 159,
     "metadata": {},
     "output_type": "execute_result"
    }
   ],
   "source": [
    "dataset.head()"
   ]
  },
  {
   "cell_type": "code",
   "execution_count": 160,
   "metadata": {},
   "outputs": [
    {
     "data": {
      "text/plain": [
       "Member     91586\n",
       "Casual     24001\n",
       "Unknown       10\n",
       "Name: Member type, dtype: int64"
      ]
     },
     "execution_count": 160,
     "metadata": {},
     "output_type": "execute_result"
    }
   ],
   "source": [
    "dataset['Member type'].value_counts()"
   ]
  },
  {
   "cell_type": "code",
   "execution_count": 161,
   "metadata": {},
   "outputs": [
    {
     "data": {
      "text/plain": [
       "Duration                0\n",
       "Start date              0\n",
       "End date                0\n",
       "Start station number    0\n",
       "Start station           0\n",
       "End station number      0\n",
       "End station             0\n",
       "Bike number             0\n",
       "Member type             0\n",
       "dtype: int64"
      ]
     },
     "execution_count": 161,
     "metadata": {},
     "output_type": "execute_result"
    }
   ],
   "source": [
    "dataset.isnull().sum()"
   ]
  },
  {
   "cell_type": "code",
   "execution_count": 162,
   "metadata": {},
   "outputs": [
    {
     "data": {
      "text/plain": [
       "Member     91586\n",
       "Casual     24001\n",
       "Unknown       10\n",
       "Name: Member type, dtype: int64"
      ]
     },
     "execution_count": 162,
     "metadata": {},
     "output_type": "execute_result"
    }
   ],
   "source": [
    "dataset['Member type'].value_counts()"
   ]
  },
  {
   "cell_type": "code",
   "execution_count": 163,
   "metadata": {},
   "outputs": [
    {
     "data": {
      "text/html": [
       "<div>\n",
       "<style scoped>\n",
       "    .dataframe tbody tr th:only-of-type {\n",
       "        vertical-align: middle;\n",
       "    }\n",
       "\n",
       "    .dataframe tbody tr th {\n",
       "        vertical-align: top;\n",
       "    }\n",
       "\n",
       "    .dataframe thead th {\n",
       "        text-align: right;\n",
       "    }\n",
       "</style>\n",
       "<table border=\"1\" class=\"dataframe\">\n",
       "  <thead>\n",
       "    <tr style=\"text-align: right;\">\n",
       "      <th></th>\n",
       "      <th>Duration</th>\n",
       "      <th>Start date</th>\n",
       "      <th>End date</th>\n",
       "      <th>Start station number</th>\n",
       "      <th>Start station</th>\n",
       "      <th>End station number</th>\n",
       "      <th>End station</th>\n",
       "      <th>Bike number</th>\n",
       "      <th>Member type</th>\n",
       "    </tr>\n",
       "  </thead>\n",
       "  <tbody>\n",
       "    <tr>\n",
       "      <th>0</th>\n",
       "      <td>1012</td>\n",
       "      <td>2010-09-20 11:27:04</td>\n",
       "      <td>2010-09-20 11:43:56</td>\n",
       "      <td>31208</td>\n",
       "      <td>M St &amp; New Jersey Ave SE</td>\n",
       "      <td>31108</td>\n",
       "      <td>4th &amp; M St SW</td>\n",
       "      <td>W00742</td>\n",
       "      <td>Member</td>\n",
       "    </tr>\n",
       "    <tr>\n",
       "      <th>1</th>\n",
       "      <td>61</td>\n",
       "      <td>2010-09-20 11:41:22</td>\n",
       "      <td>2010-09-20 11:42:23</td>\n",
       "      <td>31209</td>\n",
       "      <td>1st &amp; N St  SE</td>\n",
       "      <td>31209</td>\n",
       "      <td>1st &amp; N St  SE</td>\n",
       "      <td>W00032</td>\n",
       "      <td>Member</td>\n",
       "    </tr>\n",
       "    <tr>\n",
       "      <th>2</th>\n",
       "      <td>2690</td>\n",
       "      <td>2010-09-20 12:05:37</td>\n",
       "      <td>2010-09-20 12:50:27</td>\n",
       "      <td>31600</td>\n",
       "      <td>5th &amp; K St NW</td>\n",
       "      <td>31100</td>\n",
       "      <td>19th St &amp; Pennsylvania Ave NW</td>\n",
       "      <td>W00993</td>\n",
       "      <td>Member</td>\n",
       "    </tr>\n",
       "    <tr>\n",
       "      <th>3</th>\n",
       "      <td>1406</td>\n",
       "      <td>2010-09-20 12:06:05</td>\n",
       "      <td>2010-09-20 12:29:32</td>\n",
       "      <td>31600</td>\n",
       "      <td>5th &amp; K St NW</td>\n",
       "      <td>31602</td>\n",
       "      <td>Park Rd &amp; Holmead Pl NW</td>\n",
       "      <td>W00344</td>\n",
       "      <td>Member</td>\n",
       "    </tr>\n",
       "    <tr>\n",
       "      <th>4</th>\n",
       "      <td>1413</td>\n",
       "      <td>2010-09-20 12:10:43</td>\n",
       "      <td>2010-09-20 12:34:17</td>\n",
       "      <td>31100</td>\n",
       "      <td>19th St &amp; Pennsylvania Ave NW</td>\n",
       "      <td>31201</td>\n",
       "      <td>15th &amp; P St NW</td>\n",
       "      <td>W00883</td>\n",
       "      <td>Member</td>\n",
       "    </tr>\n",
       "    <tr>\n",
       "      <th>...</th>\n",
       "      <td>...</td>\n",
       "      <td>...</td>\n",
       "      <td>...</td>\n",
       "      <td>...</td>\n",
       "      <td>...</td>\n",
       "      <td>...</td>\n",
       "      <td>...</td>\n",
       "      <td>...</td>\n",
       "      <td>...</td>\n",
       "    </tr>\n",
       "    <tr>\n",
       "      <th>115592</th>\n",
       "      <td>2179</td>\n",
       "      <td>2010-12-31 23:20:32</td>\n",
       "      <td>2010-12-31 23:56:52</td>\n",
       "      <td>31110</td>\n",
       "      <td>20th St &amp; Florida Ave NW</td>\n",
       "      <td>31623</td>\n",
       "      <td>Columbus Circle / Union Station</td>\n",
       "      <td>W00859</td>\n",
       "      <td>Casual</td>\n",
       "    </tr>\n",
       "    <tr>\n",
       "      <th>115593</th>\n",
       "      <td>953</td>\n",
       "      <td>2010-12-31 23:21:57</td>\n",
       "      <td>2010-12-31 23:37:50</td>\n",
       "      <td>31106</td>\n",
       "      <td>Calvert &amp; Biltmore St NW</td>\n",
       "      <td>31401</td>\n",
       "      <td>14th St &amp; Spring Rd NW</td>\n",
       "      <td>W00914</td>\n",
       "      <td>Member</td>\n",
       "    </tr>\n",
       "    <tr>\n",
       "      <th>115594</th>\n",
       "      <td>737</td>\n",
       "      <td>2010-12-31 23:27:28</td>\n",
       "      <td>2010-12-31 23:39:45</td>\n",
       "      <td>31602</td>\n",
       "      <td>Park Rd &amp; Holmead Pl NW</td>\n",
       "      <td>31401</td>\n",
       "      <td>14th St &amp; Spring Rd NW</td>\n",
       "      <td>W00973</td>\n",
       "      <td>Member</td>\n",
       "    </tr>\n",
       "    <tr>\n",
       "      <th>115595</th>\n",
       "      <td>514</td>\n",
       "      <td>2010-12-31 23:37:38</td>\n",
       "      <td>2010-12-31 23:46:12</td>\n",
       "      <td>31111</td>\n",
       "      <td>10th &amp; U St NW</td>\n",
       "      <td>31202</td>\n",
       "      <td>14th &amp; R St NW</td>\n",
       "      <td>W01119</td>\n",
       "      <td>Member</td>\n",
       "    </tr>\n",
       "    <tr>\n",
       "      <th>115596</th>\n",
       "      <td>51962</td>\n",
       "      <td>2010-12-31 23:49:05</td>\n",
       "      <td>2011-01-01 14:15:08</td>\n",
       "      <td>31111</td>\n",
       "      <td>10th &amp; U St NW</td>\n",
       "      <td>31111</td>\n",
       "      <td>10th &amp; U St NW</td>\n",
       "      <td>W00771</td>\n",
       "      <td>Casual</td>\n",
       "    </tr>\n",
       "  </tbody>\n",
       "</table>\n",
       "<p>115587 rows × 9 columns</p>\n",
       "</div>"
      ],
      "text/plain": [
       "        Duration           Start date             End date  \\\n",
       "0           1012  2010-09-20 11:27:04  2010-09-20 11:43:56   \n",
       "1             61  2010-09-20 11:41:22  2010-09-20 11:42:23   \n",
       "2           2690  2010-09-20 12:05:37  2010-09-20 12:50:27   \n",
       "3           1406  2010-09-20 12:06:05  2010-09-20 12:29:32   \n",
       "4           1413  2010-09-20 12:10:43  2010-09-20 12:34:17   \n",
       "...          ...                  ...                  ...   \n",
       "115592      2179  2010-12-31 23:20:32  2010-12-31 23:56:52   \n",
       "115593       953  2010-12-31 23:21:57  2010-12-31 23:37:50   \n",
       "115594       737  2010-12-31 23:27:28  2010-12-31 23:39:45   \n",
       "115595       514  2010-12-31 23:37:38  2010-12-31 23:46:12   \n",
       "115596     51962  2010-12-31 23:49:05  2011-01-01 14:15:08   \n",
       "\n",
       "        Start station number                  Start station  \\\n",
       "0                      31208       M St & New Jersey Ave SE   \n",
       "1                      31209                 1st & N St  SE   \n",
       "2                      31600                  5th & K St NW   \n",
       "3                      31600                  5th & K St NW   \n",
       "4                      31100  19th St & Pennsylvania Ave NW   \n",
       "...                      ...                            ...   \n",
       "115592                 31110       20th St & Florida Ave NW   \n",
       "115593                 31106       Calvert & Biltmore St NW   \n",
       "115594                 31602        Park Rd & Holmead Pl NW   \n",
       "115595                 31111                 10th & U St NW   \n",
       "115596                 31111                 10th & U St NW   \n",
       "\n",
       "        End station number                      End station Bike number  \\\n",
       "0                    31108                    4th & M St SW      W00742   \n",
       "1                    31209                   1st & N St  SE      W00032   \n",
       "2                    31100    19th St & Pennsylvania Ave NW      W00993   \n",
       "3                    31602          Park Rd & Holmead Pl NW      W00344   \n",
       "4                    31201                   15th & P St NW      W00883   \n",
       "...                    ...                              ...         ...   \n",
       "115592               31623  Columbus Circle / Union Station      W00859   \n",
       "115593               31401           14th St & Spring Rd NW      W00914   \n",
       "115594               31401           14th St & Spring Rd NW      W00973   \n",
       "115595               31202                   14th & R St NW      W01119   \n",
       "115596               31111                   10th & U St NW      W00771   \n",
       "\n",
       "       Member type  \n",
       "0           Member  \n",
       "1           Member  \n",
       "2           Member  \n",
       "3           Member  \n",
       "4           Member  \n",
       "...            ...  \n",
       "115592      Casual  \n",
       "115593      Member  \n",
       "115594      Member  \n",
       "115595      Member  \n",
       "115596      Casual  \n",
       "\n",
       "[115587 rows x 9 columns]"
      ]
     },
     "execution_count": 163,
     "metadata": {},
     "output_type": "execute_result"
    }
   ],
   "source": [
    "dataset.drop(dataset.index[dataset['Member type'] == 'Unknown'])"
   ]
  },
  {
   "cell_type": "code",
   "execution_count": 164,
   "metadata": {},
   "outputs": [
    {
     "data": {
      "text/plain": [
       "Member     91586\n",
       "Casual     24001\n",
       "Unknown       10\n",
       "Name: Member type, dtype: int64"
      ]
     },
     "execution_count": 164,
     "metadata": {},
     "output_type": "execute_result"
    }
   ],
   "source": [
    "dataset['Member type'].value_counts()"
   ]
  },
  {
   "cell_type": "code",
   "execution_count": 165,
   "metadata": {},
   "outputs": [],
   "source": [
    "X = dataset.iloc[:,[0,3,5]].values\n",
    "y = dataset.iloc[:,-1].values"
   ]
  },
  {
   "cell_type": "code",
   "execution_count": 166,
   "metadata": {},
   "outputs": [],
   "source": [
    "from sklearn.preprocessing import LabelEncoder\n",
    "encoder = LabelEncoder()\n",
    "y = encoder.fit_transform(y)"
   ]
  },
  {
   "cell_type": "code",
   "execution_count": 167,
   "metadata": {},
   "outputs": [
    {
     "name": "stdout",
     "output_type": "stream",
     "text": [
      "[1 1 1 ... 1 1 0]\n"
     ]
    }
   ],
   "source": [
    "print(y)"
   ]
  },
  {
   "cell_type": "code",
   "execution_count": 168,
   "metadata": {},
   "outputs": [],
   "source": [
    "from sklearn.model_selection import train_test_split\n",
    "X_train, X_test, y_train, y_test = train_test_split(X, y , test_size = 0.25, random_state = 1)"
   ]
  },
  {
   "cell_type": "code",
   "execution_count": 169,
   "metadata": {},
   "outputs": [],
   "source": [
    "from sklearn.preprocessing import StandardScaler\n",
    "sc = StandardScaler()\n",
    "X_train = sc.fit_transform(X_train)\n",
    "X_test = sc.transform(X_test)"
   ]
  },
  {
   "cell_type": "code",
   "execution_count": 170,
   "metadata": {},
   "outputs": [
    {
     "name": "stdout",
     "output_type": "stream",
     "text": [
      "[[-0.16101204  0.7134468  -0.87054149]\n",
      " [-0.142986   -0.84850488 -0.30181428]\n",
      " [-0.06464206  1.88624328 -0.35010244]\n",
      " ...\n",
      " [-0.01957696 -0.27809932 -0.29108358]\n",
      " [-0.27540807 -0.86982845 -0.3661985 ]\n",
      " [-0.02858998 -0.84317399 -0.28035288]]\n"
     ]
    }
   ],
   "source": [
    "print(X_train)"
   ]
  },
  {
   "cell_type": "code",
   "execution_count": 171,
   "metadata": {},
   "outputs": [
    {
     "name": "stdout",
     "output_type": "stream",
     "text": [
      "[[ 0.15271039 -0.82718131  1.25950286]\n",
      " [-0.3332994  -1.37093241 -1.428538  ]\n",
      " [-0.18285129  1.7956181   1.24340681]\n",
      " ...\n",
      " [ 0.1495905   1.26252879 -0.23206472]\n",
      " [-0.12357334  0.18035749  0.19179801]\n",
      " [-0.25287552 -0.86449756 -0.3661985 ]]\n"
     ]
    }
   ],
   "source": [
    "print(X_test)"
   ]
  },
  {
   "cell_type": "code",
   "execution_count": 172,
   "metadata": {},
   "outputs": [
    {
     "data": {
      "text/plain": [
       "DecisionTreeClassifier(criterion='entropy', random_state=0)"
      ]
     },
     "execution_count": 172,
     "metadata": {},
     "output_type": "execute_result"
    }
   ],
   "source": [
    "from sklearn.tree import DecisionTreeClassifier\n",
    "classifier = DecisionTreeClassifier(criterion='entropy',random_state=0)\n",
    "classifier.fit(X_train,y_train)"
   ]
  },
  {
   "cell_type": "code",
   "execution_count": 173,
   "metadata": {},
   "outputs": [],
   "source": [
    "y_pred = classifier.predict(X_test)"
   ]
  },
  {
   "cell_type": "code",
   "execution_count": 174,
   "metadata": {},
   "outputs": [
    {
     "name": "stdout",
     "output_type": "stream",
     "text": [
      "[[ 3249  2796     0]\n",
      " [ 3072 19778     1]\n",
      " [    1     3     0]]\n"
     ]
    },
    {
     "data": {
      "text/plain": [
       "0.7967820069204152"
      ]
     },
     "execution_count": 174,
     "metadata": {},
     "output_type": "execute_result"
    }
   ],
   "source": [
    "from sklearn.metrics import confusion_matrix, accuracy_score\n",
    "cm = confusion_matrix(y_test, y_pred)\n",
    "print(cm)\n",
    "accuracy_score(y_test, y_pred)"
   ]
  },
  {
   "cell_type": "code",
   "execution_count": 175,
   "metadata": {},
   "outputs": [
    {
     "name": "stdout",
     "output_type": "stream",
     "text": [
      "              precision    recall  f1-score   support\n",
      "\n",
      "           0       0.51      0.54      0.53      6045\n",
      "           1       0.88      0.87      0.87     22851\n",
      "           2       0.00      0.00      0.00         4\n",
      "\n",
      "    accuracy                           0.80     28900\n",
      "   macro avg       0.46      0.47      0.47     28900\n",
      "weighted avg       0.80      0.80      0.80     28900\n",
      "\n"
     ]
    }
   ],
   "source": [
    "from sklearn.metrics import classification_report\n",
    "classification_metrics = classification_report(y_test, y_pred)\n",
    "print(classification_metrics)"
   ]
  },
  {
   "cell_type": "code",
   "execution_count": null,
   "metadata": {},
   "outputs": [],
   "source": []
  },
  {
   "cell_type": "code",
   "execution_count": null,
   "metadata": {},
   "outputs": [],
   "source": []
  }
 ],
 "metadata": {
  "kernelspec": {
   "display_name": "Python 3",
   "language": "python",
   "name": "python3"
  },
  "language_info": {
   "codemirror_mode": {
    "name": "ipython",
    "version": 3
   },
   "file_extension": ".py",
   "mimetype": "text/x-python",
   "name": "python",
   "nbconvert_exporter": "python",
   "pygments_lexer": "ipython3",
   "version": "3.8.5"
  }
 },
 "nbformat": 4,
 "nbformat_minor": 4
}
