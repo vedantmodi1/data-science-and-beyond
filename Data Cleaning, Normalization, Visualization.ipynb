{
 "cells": [
  {
   "cell_type": "code",
   "execution_count": 86,
   "metadata": {},
   "outputs": [],
   "source": [
    "import pandas as pd\n",
    "import numpy as np\n",
    "import matplotlib.pyplot as plt\n",
    "import seaborn as sns\n",
    "import warnings\n",
    "from sklearn.preprocessing import LabelEncoder\n",
    "\n",
    "%matplotlib inline"
   ]
  },
  {
   "cell_type": "code",
   "execution_count": 87,
   "metadata": {},
   "outputs": [],
   "source": [
    "data = pd.read_csv('C:/Users/vedan/OneDrive/Desktop/MIT/DWDM/age_by_industry.csv')"
   ]
  },
  {
   "cell_type": "code",
   "execution_count": 88,
   "metadata": {},
   "outputs": [
    {
     "data": {
      "text/html": [
       "<div>\n",
       "<style scoped>\n",
       "    .dataframe tbody tr th:only-of-type {\n",
       "        vertical-align: middle;\n",
       "    }\n",
       "\n",
       "    .dataframe tbody tr th {\n",
       "        vertical-align: top;\n",
       "    }\n",
       "\n",
       "    .dataframe thead th {\n",
       "        text-align: right;\n",
       "    }\n",
       "</style>\n",
       "<table border=\"1\" class=\"dataframe\">\n",
       "  <thead>\n",
       "    <tr style=\"text-align: right;\">\n",
       "      <th></th>\n",
       "      <th>naics</th>\n",
       "      <th>census_ind</th>\n",
       "      <th>naics_industry</th>\n",
       "      <th>min_age</th>\n",
       "      <th>max_age</th>\n",
       "      <th>avg_age</th>\n",
       "    </tr>\n",
       "  </thead>\n",
       "  <tbody>\n",
       "    <tr>\n",
       "      <th>0</th>\n",
       "      <td>111</td>\n",
       "      <td>170</td>\n",
       "      <td>AGR-CROP PRODUCTION</td>\n",
       "      <td>16</td>\n",
       "      <td>92</td>\n",
       "      <td>47.927342</td>\n",
       "    </tr>\n",
       "    <tr>\n",
       "      <th>1</th>\n",
       "      <td>112</td>\n",
       "      <td>180</td>\n",
       "      <td>AGR-ANIMAL PRODUCTION AND AQUACULTURE</td>\n",
       "      <td>16</td>\n",
       "      <td>92</td>\n",
       "      <td>48.869432</td>\n",
       "    </tr>\n",
       "    <tr>\n",
       "      <th>2</th>\n",
       "      <td>1133</td>\n",
       "      <td>270</td>\n",
       "      <td>AGR-LOGGING</td>\n",
       "      <td>18</td>\n",
       "      <td>67</td>\n",
       "      <td>45.473684</td>\n",
       "    </tr>\n",
       "    <tr>\n",
       "      <th>3</th>\n",
       "      <td>113M</td>\n",
       "      <td>190</td>\n",
       "      <td>AGR-FORESTRY EXCEPT LOGGING</td>\n",
       "      <td>31</td>\n",
       "      <td>74</td>\n",
       "      <td>50.882353</td>\n",
       "    </tr>\n",
       "    <tr>\n",
       "      <th>4</th>\n",
       "      <td>114</td>\n",
       "      <td>280</td>\n",
       "      <td>AGR-FISHING, HUNTING, AND TRAPPING</td>\n",
       "      <td>20</td>\n",
       "      <td>60</td>\n",
       "      <td>39.520000</td>\n",
       "    </tr>\n",
       "    <tr>\n",
       "      <th>...</th>\n",
       "      <td>...</td>\n",
       "      <td>...</td>\n",
       "      <td>...</td>\n",
       "      <td>...</td>\n",
       "      <td>...</td>\n",
       "      <td>...</td>\n",
       "    </tr>\n",
       "    <tr>\n",
       "      <th>261</th>\n",
       "      <td>928110P7</td>\n",
       "      <td>9870</td>\n",
       "      <td>MIL-MILITARY RESERVES OR NATIONAL GUARD</td>\n",
       "      <td>18</td>\n",
       "      <td>53</td>\n",
       "      <td>33.000000</td>\n",
       "    </tr>\n",
       "    <tr>\n",
       "      <th>262</th>\n",
       "      <td>928P</td>\n",
       "      <td>9590</td>\n",
       "      <td>ADM-NATIONAL SECURITY AND INTERNATIONAL AFFAIRS</td>\n",
       "      <td>17</td>\n",
       "      <td>85</td>\n",
       "      <td>44.964809</td>\n",
       "    </tr>\n",
       "    <tr>\n",
       "      <th>263</th>\n",
       "      <td>92M1</td>\n",
       "      <td>9490</td>\n",
       "      <td>ADM-ADMINISTRATION OF ENVIRONMENTAL QUALITY AN...</td>\n",
       "      <td>20</td>\n",
       "      <td>76</td>\n",
       "      <td>47.284615</td>\n",
       "    </tr>\n",
       "    <tr>\n",
       "      <th>264</th>\n",
       "      <td>92M2</td>\n",
       "      <td>9570</td>\n",
       "      <td>ADM-ADMINISTRATION OF ECONOMIC PROGRAMS AND SP...</td>\n",
       "      <td>17</td>\n",
       "      <td>79</td>\n",
       "      <td>49.823529</td>\n",
       "    </tr>\n",
       "    <tr>\n",
       "      <th>265</th>\n",
       "      <td>92MP</td>\n",
       "      <td>9470</td>\n",
       "      <td>ADM-JUSTICE, PUBLIC ORDER, AND SAFETY ACTIVITIES</td>\n",
       "      <td>18</td>\n",
       "      <td>92</td>\n",
       "      <td>44.023591</td>\n",
       "    </tr>\n",
       "  </tbody>\n",
       "</table>\n",
       "<p>266 rows × 6 columns</p>\n",
       "</div>"
      ],
      "text/plain": [
       "        naics  census_ind                                     naics_industry  \\\n",
       "0         111         170                                AGR-CROP PRODUCTION   \n",
       "1         112         180              AGR-ANIMAL PRODUCTION AND AQUACULTURE   \n",
       "2        1133         270                                        AGR-LOGGING   \n",
       "3        113M         190                        AGR-FORESTRY EXCEPT LOGGING   \n",
       "4         114         280                 AGR-FISHING, HUNTING, AND TRAPPING   \n",
       "..        ...         ...                                                ...   \n",
       "261  928110P7        9870            MIL-MILITARY RESERVES OR NATIONAL GUARD   \n",
       "262      928P        9590    ADM-NATIONAL SECURITY AND INTERNATIONAL AFFAIRS   \n",
       "263      92M1        9490  ADM-ADMINISTRATION OF ENVIRONMENTAL QUALITY AN...   \n",
       "264      92M2        9570  ADM-ADMINISTRATION OF ECONOMIC PROGRAMS AND SP...   \n",
       "265      92MP        9470   ADM-JUSTICE, PUBLIC ORDER, AND SAFETY ACTIVITIES   \n",
       "\n",
       "     min_age  max_age    avg_age  \n",
       "0         16       92  47.927342  \n",
       "1         16       92  48.869432  \n",
       "2         18       67  45.473684  \n",
       "3         31       74  50.882353  \n",
       "4         20       60  39.520000  \n",
       "..       ...      ...        ...  \n",
       "261       18       53  33.000000  \n",
       "262       17       85  44.964809  \n",
       "263       20       76  47.284615  \n",
       "264       17       79  49.823529  \n",
       "265       18       92  44.023591  \n",
       "\n",
       "[266 rows x 6 columns]"
      ]
     },
     "execution_count": 88,
     "metadata": {},
     "output_type": "execute_result"
    }
   ],
   "source": [
    "data"
   ]
  },
  {
   "cell_type": "markdown",
   "metadata": {},
   "source": [
    "# Data Correlation"
   ]
  },
  {
   "cell_type": "code",
   "execution_count": 89,
   "metadata": {},
   "outputs": [
    {
     "data": {
      "text/html": [
       "<div>\n",
       "<style scoped>\n",
       "    .dataframe tbody tr th:only-of-type {\n",
       "        vertical-align: middle;\n",
       "    }\n",
       "\n",
       "    .dataframe tbody tr th {\n",
       "        vertical-align: top;\n",
       "    }\n",
       "\n",
       "    .dataframe thead th {\n",
       "        text-align: right;\n",
       "    }\n",
       "</style>\n",
       "<table border=\"1\" class=\"dataframe\">\n",
       "  <thead>\n",
       "    <tr style=\"text-align: right;\">\n",
       "      <th></th>\n",
       "      <th>census_ind</th>\n",
       "      <th>min_age</th>\n",
       "      <th>max_age</th>\n",
       "      <th>avg_age</th>\n",
       "    </tr>\n",
       "  </thead>\n",
       "  <tbody>\n",
       "    <tr>\n",
       "      <th>census_ind</th>\n",
       "      <td>1.000000</td>\n",
       "      <td>-0.344935</td>\n",
       "      <td>0.225085</td>\n",
       "      <td>-0.245981</td>\n",
       "    </tr>\n",
       "    <tr>\n",
       "      <th>min_age</th>\n",
       "      <td>-0.344935</td>\n",
       "      <td>1.000000</td>\n",
       "      <td>-0.549043</td>\n",
       "      <td>0.221938</td>\n",
       "    </tr>\n",
       "    <tr>\n",
       "      <th>max_age</th>\n",
       "      <td>0.225085</td>\n",
       "      <td>-0.549043</td>\n",
       "      <td>1.000000</td>\n",
       "      <td>0.356676</td>\n",
       "    </tr>\n",
       "    <tr>\n",
       "      <th>avg_age</th>\n",
       "      <td>-0.245981</td>\n",
       "      <td>0.221938</td>\n",
       "      <td>0.356676</td>\n",
       "      <td>1.000000</td>\n",
       "    </tr>\n",
       "  </tbody>\n",
       "</table>\n",
       "</div>"
      ],
      "text/plain": [
       "            census_ind   min_age   max_age   avg_age\n",
       "census_ind    1.000000 -0.344935  0.225085 -0.245981\n",
       "min_age      -0.344935  1.000000 -0.549043  0.221938\n",
       "max_age       0.225085 -0.549043  1.000000  0.356676\n",
       "avg_age      -0.245981  0.221938  0.356676  1.000000"
      ]
     },
     "execution_count": 89,
     "metadata": {},
     "output_type": "execute_result"
    }
   ],
   "source": [
    "data.corr()"
   ]
  },
  {
   "cell_type": "code",
   "execution_count": 90,
   "metadata": {},
   "outputs": [
    {
     "data": {
      "text/html": [
       "<div>\n",
       "<style scoped>\n",
       "    .dataframe tbody tr th:only-of-type {\n",
       "        vertical-align: middle;\n",
       "    }\n",
       "\n",
       "    .dataframe tbody tr th {\n",
       "        vertical-align: top;\n",
       "    }\n",
       "\n",
       "    .dataframe thead th {\n",
       "        text-align: right;\n",
       "    }\n",
       "</style>\n",
       "<table border=\"1\" class=\"dataframe\">\n",
       "  <thead>\n",
       "    <tr style=\"text-align: right;\">\n",
       "      <th></th>\n",
       "      <th>census_ind</th>\n",
       "      <th>min_age</th>\n",
       "      <th>max_age</th>\n",
       "      <th>avg_age</th>\n",
       "    </tr>\n",
       "  </thead>\n",
       "  <tbody>\n",
       "    <tr>\n",
       "      <th>census_ind</th>\n",
       "      <td>1.000000</td>\n",
       "      <td>-0.344935</td>\n",
       "      <td>0.225085</td>\n",
       "      <td>-0.245981</td>\n",
       "    </tr>\n",
       "    <tr>\n",
       "      <th>min_age</th>\n",
       "      <td>-0.344935</td>\n",
       "      <td>1.000000</td>\n",
       "      <td>-0.549043</td>\n",
       "      <td>0.221938</td>\n",
       "    </tr>\n",
       "    <tr>\n",
       "      <th>max_age</th>\n",
       "      <td>0.225085</td>\n",
       "      <td>-0.549043</td>\n",
       "      <td>1.000000</td>\n",
       "      <td>0.356676</td>\n",
       "    </tr>\n",
       "    <tr>\n",
       "      <th>avg_age</th>\n",
       "      <td>-0.245981</td>\n",
       "      <td>0.221938</td>\n",
       "      <td>0.356676</td>\n",
       "      <td>1.000000</td>\n",
       "    </tr>\n",
       "  </tbody>\n",
       "</table>\n",
       "</div>"
      ],
      "text/plain": [
       "            census_ind   min_age   max_age   avg_age\n",
       "census_ind    1.000000 -0.344935  0.225085 -0.245981\n",
       "min_age      -0.344935  1.000000 -0.549043  0.221938\n",
       "max_age       0.225085 -0.549043  1.000000  0.356676\n",
       "avg_age      -0.245981  0.221938  0.356676  1.000000"
      ]
     },
     "execution_count": 90,
     "metadata": {},
     "output_type": "execute_result"
    }
   ],
   "source": [
    "#correlation analysis\n",
    "data.corr()"
   ]
  },
  {
   "cell_type": "code",
   "execution_count": 91,
   "metadata": {},
   "outputs": [
    {
     "name": "stdout",
     "output_type": "stream",
     "text": [
      "            census_ind   min_age   max_age   avg_age\n",
      "census_ind    1.000000 -0.344935  0.225085 -0.245981\n",
      "min_age      -0.344935  1.000000 -0.549043  0.221938\n",
      "max_age       0.225085 -0.549043  1.000000  0.356676\n",
      "avg_age      -0.245981  0.221938  0.356676  1.000000\n"
     ]
    }
   ],
   "source": [
    "print(data.corr())\n",
    "plt.show()"
   ]
  },
  {
   "cell_type": "code",
   "execution_count": 92,
   "metadata": {},
   "outputs": [
    {
     "data": {
      "image/png": "[encoded data removed]",
      "text/plain": [
       "<Figure size 288x288 with 2 Axes>"
      ]
     },
     "metadata": {
      "needs_background": "light"
     },
     "output_type": "display_data"
    }
   ],
   "source": [
    "plt.matshow(data.corr())\n",
    "plt.xticks(range(len(data.columns)), data.columns)\n",
    "plt.yticks (range(len(data.columns)), data.columns)\n",
    "plt.colorbar()\n",
    "plt. show()"
   ]
  },
  {
   "cell_type": "code",
   "execution_count": 93,
   "metadata": {},
   "outputs": [
    {
     "data": {
      "image/png": "[encoded data removed]",
      "text/plain": [
       "<Figure size 432x288 with 2 Axes>"
      ]
     },
     "metadata": {
      "needs_background": "light"
     },
     "output_type": "display_data"
    }
   ],
   "source": [
    "sns.heatmap(data.corr(method=\"pearson\"))\n",
    "plt.show()"
   ]
  },
  {
   "cell_type": "code",
   "execution_count": 94,
   "metadata": {},
   "outputs": [
    {
     "data": {
      "text/plain": [
       "<AxesSubplot:>"
      ]
     },
     "execution_count": 94,
     "metadata": {},
     "output_type": "execute_result"
    },
    {
     "data": {
      "image/png": "[encoded data removed]",
      "text/plain": [
       "<Figure size 432x288 with 2 Axes>"
      ]
     },
     "metadata": {
      "needs_background": "light"
     },
     "output_type": "display_data"
    }
   ],
   "source": [
    "correlation_matrix=data.corr().round(2)\n",
    "sns.heatmap(data=correlation_matrix,annot=True)"
   ]
  },
  {
   "cell_type": "markdown",
   "metadata": {},
   "source": [
    "# Handling Data Duplication"
   ]
  },
  {
   "cell_type": "code",
   "execution_count": 43,
   "metadata": {},
   "outputs": [
    {
     "data": {
      "text/plain": [
       "(266, 6)"
      ]
     },
     "execution_count": 43,
     "metadata": {},
     "output_type": "execute_result"
    }
   ],
   "source": [
    "#handling data duplication\n",
    "data.shape"
   ]
  },
  {
   "cell_type": "code",
   "execution_count": 44,
   "metadata": {},
   "outputs": [
    {
     "data": {
      "text/plain": [
       "False    266\n",
       "dtype: int64"
      ]
     },
     "execution_count": 44,
     "metadata": {},
     "output_type": "execute_result"
    }
   ],
   "source": [
    "data.duplicated(subset = None, keep =False).value_counts()"
   ]
  },
  {
   "cell_type": "code",
   "execution_count": 45,
   "metadata": {},
   "outputs": [],
   "source": [
    "bool_series = data.duplicated(subset = None, keep = False)"
   ]
  },
  {
   "cell_type": "code",
   "execution_count": 46,
   "metadata": {},
   "outputs": [],
   "source": [
    "data_unique = data[~bool_series]"
   ]
  },
  {
   "cell_type": "code",
   "execution_count": 47,
   "metadata": {},
   "outputs": [
    {
     "name": "stdout",
     "output_type": "stream",
     "text": [
      "Before Removing Duplicates:\n",
      "(266, 6)\n",
      "After Removing Duplicates:\n",
      "(266, 6)\n"
     ]
    }
   ],
   "source": [
    "print(\"Before Removing Duplicates:\")\n",
    "print(data.shape)\n",
    "print(\"After Removing Duplicates:\")\n",
    "print(data_unique.shape)"
   ]
  },
  {
   "cell_type": "code",
   "execution_count": 78,
   "metadata": {},
   "outputs": [
    {
     "name": "stdout",
     "output_type": "stream",
     "text": [
      "No. of duplicate values: 0\n"
     ]
    }
   ],
   "source": [
    "exact_duplicate_count = df.duplicated().sum()\n",
    "print(\"No. of duplicate values:\", exact_duplicate_count)"
   ]
  },
  {
   "cell_type": "markdown",
   "metadata": {},
   "source": [
    "# Data Normalization on minimum age"
   ]
  },
  {
   "cell_type": "code",
   "execution_count": 49,
   "metadata": {},
   "outputs": [
    {
     "data": {
      "text/plain": [
       "Index(['naics', 'census_ind', 'naics_industry', 'min_age', 'max_age',\n",
       "       'avg_age'],\n",
       "      dtype='object')"
      ]
     },
     "execution_count": 49,
     "metadata": {},
     "output_type": "execute_result"
    }
   ],
   "source": [
    "data.columns"
   ]
  },
  {
   "cell_type": "code",
   "execution_count": 50,
   "metadata": {},
   "outputs": [],
   "source": [
    "min_age1=data['min_age']"
   ]
  },
  {
   "cell_type": "code",
   "execution_count": 51,
   "metadata": {},
   "outputs": [
    {
     "data": {
      "text/plain": [
       "0      16\n",
       "1      16\n",
       "2      18\n",
       "3      31\n",
       "4      20\n",
       "       ..\n",
       "261    18\n",
       "262    17\n",
       "263    20\n",
       "264    17\n",
       "265    18\n",
       "Name: min_age, Length: 266, dtype: int64"
      ]
     },
     "execution_count": 51,
     "metadata": {},
     "output_type": "execute_result"
    }
   ],
   "source": [
    "min_age1"
   ]
  },
  {
   "cell_type": "code",
   "execution_count": 52,
   "metadata": {},
   "outputs": [
    {
     "data": {
      "text/html": [
       "<div>\n",
       "<style scoped>\n",
       "    .dataframe tbody tr th:only-of-type {\n",
       "        vertical-align: middle;\n",
       "    }\n",
       "\n",
       "    .dataframe tbody tr th {\n",
       "        vertical-align: top;\n",
       "    }\n",
       "\n",
       "    .dataframe thead th {\n",
       "        text-align: right;\n",
       "    }\n",
       "</style>\n",
       "<table border=\"1\" class=\"dataframe\">\n",
       "  <thead>\n",
       "    <tr style=\"text-align: right;\">\n",
       "      <th></th>\n",
       "      <th>naics</th>\n",
       "      <th>census_ind</th>\n",
       "      <th>naics_industry</th>\n",
       "      <th>min_age</th>\n",
       "      <th>max_age</th>\n",
       "      <th>avg_age</th>\n",
       "      <th>norm_minage</th>\n",
       "    </tr>\n",
       "  </thead>\n",
       "  <tbody>\n",
       "    <tr>\n",
       "      <th>0</th>\n",
       "      <td>111</td>\n",
       "      <td>170</td>\n",
       "      <td>AGR-CROP PRODUCTION</td>\n",
       "      <td>16</td>\n",
       "      <td>92</td>\n",
       "      <td>47.927342</td>\n",
       "      <td>0.000000</td>\n",
       "    </tr>\n",
       "    <tr>\n",
       "      <th>189</th>\n",
       "      <td>5411</td>\n",
       "      <td>7270</td>\n",
       "      <td>PRF-LEGAL SERVICES</td>\n",
       "      <td>16</td>\n",
       "      <td>92</td>\n",
       "      <td>47.657049</td>\n",
       "      <td>0.000000</td>\n",
       "    </tr>\n",
       "    <tr>\n",
       "      <th>182</th>\n",
       "      <td>52M1</td>\n",
       "      <td>6870</td>\n",
       "      <td>FIN-BANKING AND RELATED ACTIVITIES</td>\n",
       "      <td>16</td>\n",
       "      <td>86</td>\n",
       "      <td>43.125512</td>\n",
       "      <td>0.000000</td>\n",
       "    </tr>\n",
       "    <tr>\n",
       "      <th>170</th>\n",
       "      <td>5121</td>\n",
       "      <td>6570</td>\n",
       "      <td>INF-MOTION PICTURE AND VIDEO INDUSTRIES</td>\n",
       "      <td>16</td>\n",
       "      <td>74</td>\n",
       "      <td>34.098901</td>\n",
       "      <td>0.000000</td>\n",
       "    </tr>\n",
       "    <tr>\n",
       "      <th>166</th>\n",
       "      <td>4MS</td>\n",
       "      <td>5790</td>\n",
       "      <td>RET-NOT SPECIFIED RETAIL TRADE</td>\n",
       "      <td>16</td>\n",
       "      <td>87</td>\n",
       "      <td>43.675676</td>\n",
       "      <td>0.000000</td>\n",
       "    </tr>\n",
       "    <tr>\n",
       "      <th>...</th>\n",
       "      <td>...</td>\n",
       "      <td>...</td>\n",
       "      <td>...</td>\n",
       "      <td>...</td>\n",
       "      <td>...</td>\n",
       "      <td>...</td>\n",
       "      <td>...</td>\n",
       "    </tr>\n",
       "    <tr>\n",
       "      <th>32</th>\n",
       "      <td>31411</td>\n",
       "      <td>1570</td>\n",
       "      <td>MFG-CARPET AND RUG MILLS</td>\n",
       "      <td>33</td>\n",
       "      <td>48</td>\n",
       "      <td>42.250000</td>\n",
       "      <td>0.586207</td>\n",
       "    </tr>\n",
       "    <tr>\n",
       "      <th>38</th>\n",
       "      <td>31M</td>\n",
       "      <td>1670</td>\n",
       "      <td>MFG-KNITTING FABRIC MILLS, AND APPAREL KNITTIN...</td>\n",
       "      <td>35</td>\n",
       "      <td>61</td>\n",
       "      <td>45.000000</td>\n",
       "      <td>0.655172</td>\n",
       "    </tr>\n",
       "    <tr>\n",
       "      <th>186</th>\n",
       "      <td>53223</td>\n",
       "      <td>7170</td>\n",
       "      <td>FIN-VIDEO TAPE AND DISK RENTAL</td>\n",
       "      <td>36</td>\n",
       "      <td>49</td>\n",
       "      <td>42.500000</td>\n",
       "      <td>0.689655</td>\n",
       "    </tr>\n",
       "    <tr>\n",
       "      <th>28</th>\n",
       "      <td>3122</td>\n",
       "      <td>1390</td>\n",
       "      <td>MFG-TOBACCO</td>\n",
       "      <td>37</td>\n",
       "      <td>48</td>\n",
       "      <td>42.500000</td>\n",
       "      <td>0.724138</td>\n",
       "    </tr>\n",
       "    <tr>\n",
       "      <th>29</th>\n",
       "      <td>3131</td>\n",
       "      <td>1470</td>\n",
       "      <td>MFG-FIBER, YARN, AND THREAD MILLS</td>\n",
       "      <td>45</td>\n",
       "      <td>50</td>\n",
       "      <td>47.500000</td>\n",
       "      <td>1.000000</td>\n",
       "    </tr>\n",
       "  </tbody>\n",
       "</table>\n",
       "<p>266 rows × 7 columns</p>\n",
       "</div>"
      ],
      "text/plain": [
       "     naics  census_ind                                     naics_industry  \\\n",
       "0      111         170                                AGR-CROP PRODUCTION   \n",
       "189   5411        7270                                 PRF-LEGAL SERVICES   \n",
       "182   52M1        6870                 FIN-BANKING AND RELATED ACTIVITIES   \n",
       "170   5121        6570            INF-MOTION PICTURE AND VIDEO INDUSTRIES   \n",
       "166    4MS        5790                     RET-NOT SPECIFIED RETAIL TRADE   \n",
       "..     ...         ...                                                ...   \n",
       "32   31411        1570                           MFG-CARPET AND RUG MILLS   \n",
       "38     31M        1670  MFG-KNITTING FABRIC MILLS, AND APPAREL KNITTIN...   \n",
       "186  53223        7170                     FIN-VIDEO TAPE AND DISK RENTAL   \n",
       "28    3122        1390                                        MFG-TOBACCO   \n",
       "29    3131        1470                  MFG-FIBER, YARN, AND THREAD MILLS   \n",
       "\n",
       "     min_age  max_age    avg_age  norm_minage  \n",
       "0         16       92  47.927342     0.000000  \n",
       "189       16       92  47.657049     0.000000  \n",
       "182       16       86  43.125512     0.000000  \n",
       "170       16       74  34.098901     0.000000  \n",
       "166       16       87  43.675676     0.000000  \n",
       "..       ...      ...        ...          ...  \n",
       "32        33       48  42.250000     0.586207  \n",
       "38        35       61  45.000000     0.655172  \n",
       "186       36       49  42.500000     0.689655  \n",
       "28        37       48  42.500000     0.724138  \n",
       "29        45       50  47.500000     1.000000  \n",
       "\n",
       "[266 rows x 7 columns]"
      ]
     },
     "execution_count": 52,
     "metadata": {},
     "output_type": "execute_result"
    }
   ],
   "source": [
    "norm_minage=(min_age1-min_age1.min())/(min_age1.max()-min_age1.min())\n",
    "data['norm_minage']=norm_minage\n",
    "data.sort_values(by='min_age')"
   ]
  },
  {
   "cell_type": "code",
   "execution_count": 53,
   "metadata": {},
   "outputs": [],
   "source": [
    "from sklearn import preprocessing"
   ]
  },
  {
   "cell_type": "code",
   "execution_count": 55,
   "metadata": {},
   "outputs": [
    {
     "data": {
      "text/plain": [
       "Index(['naics', 'census_ind', 'naics_industry', 'min_age', 'max_age',\n",
       "       'avg_age', 'norm_minage'],\n",
       "      dtype='object')"
      ]
     },
     "execution_count": 55,
     "metadata": {},
     "output_type": "execute_result"
    }
   ],
   "source": [
    "data.columns\n"
   ]
  },
  {
   "cell_type": "code",
   "execution_count": 57,
   "metadata": {},
   "outputs": [],
   "source": [
    "x=data[['min_age']].values.astype(float)"
   ]
  },
  {
   "cell_type": "code",
   "execution_count": 58,
   "metadata": {},
   "outputs": [
    {
     "data": {
      "text/plain": [
       "45.0"
      ]
     },
     "execution_count": 58,
     "metadata": {},
     "output_type": "execute_result"
    }
   ],
   "source": [
    "x.max()"
   ]
  },
  {
   "cell_type": "code",
   "execution_count": 59,
   "metadata": {},
   "outputs": [
    {
     "data": {
      "text/html": [
       "<div>\n",
       "<style scoped>\n",
       "    .dataframe tbody tr th:only-of-type {\n",
       "        vertical-align: middle;\n",
       "    }\n",
       "\n",
       "    .dataframe tbody tr th {\n",
       "        vertical-align: top;\n",
       "    }\n",
       "\n",
       "    .dataframe thead th {\n",
       "        text-align: right;\n",
       "    }\n",
       "</style>\n",
       "<table border=\"1\" class=\"dataframe\">\n",
       "  <thead>\n",
       "    <tr style=\"text-align: right;\">\n",
       "      <th></th>\n",
       "      <th>naics</th>\n",
       "      <th>census_ind</th>\n",
       "      <th>naics_industry</th>\n",
       "      <th>min_age</th>\n",
       "      <th>max_age</th>\n",
       "      <th>avg_age</th>\n",
       "      <th>norm_minage</th>\n",
       "      <th>norm2</th>\n",
       "    </tr>\n",
       "  </thead>\n",
       "  <tbody>\n",
       "    <tr>\n",
       "      <th>0</th>\n",
       "      <td>111</td>\n",
       "      <td>170</td>\n",
       "      <td>AGR-CROP PRODUCTION</td>\n",
       "      <td>16</td>\n",
       "      <td>92</td>\n",
       "      <td>47.927342</td>\n",
       "      <td>0.000000</td>\n",
       "      <td>0.000000</td>\n",
       "    </tr>\n",
       "    <tr>\n",
       "      <th>189</th>\n",
       "      <td>5411</td>\n",
       "      <td>7270</td>\n",
       "      <td>PRF-LEGAL SERVICES</td>\n",
       "      <td>16</td>\n",
       "      <td>92</td>\n",
       "      <td>47.657049</td>\n",
       "      <td>0.000000</td>\n",
       "      <td>0.000000</td>\n",
       "    </tr>\n",
       "    <tr>\n",
       "      <th>182</th>\n",
       "      <td>52M1</td>\n",
       "      <td>6870</td>\n",
       "      <td>FIN-BANKING AND RELATED ACTIVITIES</td>\n",
       "      <td>16</td>\n",
       "      <td>86</td>\n",
       "      <td>43.125512</td>\n",
       "      <td>0.000000</td>\n",
       "      <td>0.000000</td>\n",
       "    </tr>\n",
       "    <tr>\n",
       "      <th>170</th>\n",
       "      <td>5121</td>\n",
       "      <td>6570</td>\n",
       "      <td>INF-MOTION PICTURE AND VIDEO INDUSTRIES</td>\n",
       "      <td>16</td>\n",
       "      <td>74</td>\n",
       "      <td>34.098901</td>\n",
       "      <td>0.000000</td>\n",
       "      <td>0.000000</td>\n",
       "    </tr>\n",
       "    <tr>\n",
       "      <th>166</th>\n",
       "      <td>4MS</td>\n",
       "      <td>5790</td>\n",
       "      <td>RET-NOT SPECIFIED RETAIL TRADE</td>\n",
       "      <td>16</td>\n",
       "      <td>87</td>\n",
       "      <td>43.675676</td>\n",
       "      <td>0.000000</td>\n",
       "      <td>0.000000</td>\n",
       "    </tr>\n",
       "    <tr>\n",
       "      <th>...</th>\n",
       "      <td>...</td>\n",
       "      <td>...</td>\n",
       "      <td>...</td>\n",
       "      <td>...</td>\n",
       "      <td>...</td>\n",
       "      <td>...</td>\n",
       "      <td>...</td>\n",
       "      <td>...</td>\n",
       "    </tr>\n",
       "    <tr>\n",
       "      <th>32</th>\n",
       "      <td>31411</td>\n",
       "      <td>1570</td>\n",
       "      <td>MFG-CARPET AND RUG MILLS</td>\n",
       "      <td>33</td>\n",
       "      <td>48</td>\n",
       "      <td>42.250000</td>\n",
       "      <td>0.586207</td>\n",
       "      <td>0.586207</td>\n",
       "    </tr>\n",
       "    <tr>\n",
       "      <th>38</th>\n",
       "      <td>31M</td>\n",
       "      <td>1670</td>\n",
       "      <td>MFG-KNITTING FABRIC MILLS, AND APPAREL KNITTIN...</td>\n",
       "      <td>35</td>\n",
       "      <td>61</td>\n",
       "      <td>45.000000</td>\n",
       "      <td>0.655172</td>\n",
       "      <td>0.655172</td>\n",
       "    </tr>\n",
       "    <tr>\n",
       "      <th>186</th>\n",
       "      <td>53223</td>\n",
       "      <td>7170</td>\n",
       "      <td>FIN-VIDEO TAPE AND DISK RENTAL</td>\n",
       "      <td>36</td>\n",
       "      <td>49</td>\n",
       "      <td>42.500000</td>\n",
       "      <td>0.689655</td>\n",
       "      <td>0.689655</td>\n",
       "    </tr>\n",
       "    <tr>\n",
       "      <th>28</th>\n",
       "      <td>3122</td>\n",
       "      <td>1390</td>\n",
       "      <td>MFG-TOBACCO</td>\n",
       "      <td>37</td>\n",
       "      <td>48</td>\n",
       "      <td>42.500000</td>\n",
       "      <td>0.724138</td>\n",
       "      <td>0.724138</td>\n",
       "    </tr>\n",
       "    <tr>\n",
       "      <th>29</th>\n",
       "      <td>3131</td>\n",
       "      <td>1470</td>\n",
       "      <td>MFG-FIBER, YARN, AND THREAD MILLS</td>\n",
       "      <td>45</td>\n",
       "      <td>50</td>\n",
       "      <td>47.500000</td>\n",
       "      <td>1.000000</td>\n",
       "      <td>1.000000</td>\n",
       "    </tr>\n",
       "  </tbody>\n",
       "</table>\n",
       "<p>266 rows × 8 columns</p>\n",
       "</div>"
      ],
      "text/plain": [
       "     naics  census_ind                                     naics_industry  \\\n",
       "0      111         170                                AGR-CROP PRODUCTION   \n",
       "189   5411        7270                                 PRF-LEGAL SERVICES   \n",
       "182   52M1        6870                 FIN-BANKING AND RELATED ACTIVITIES   \n",
       "170   5121        6570            INF-MOTION PICTURE AND VIDEO INDUSTRIES   \n",
       "166    4MS        5790                     RET-NOT SPECIFIED RETAIL TRADE   \n",
       "..     ...         ...                                                ...   \n",
       "32   31411        1570                           MFG-CARPET AND RUG MILLS   \n",
       "38     31M        1670  MFG-KNITTING FABRIC MILLS, AND APPAREL KNITTIN...   \n",
       "186  53223        7170                     FIN-VIDEO TAPE AND DISK RENTAL   \n",
       "28    3122        1390                                        MFG-TOBACCO   \n",
       "29    3131        1470                  MFG-FIBER, YARN, AND THREAD MILLS   \n",
       "\n",
       "     min_age  max_age    avg_age  norm_minage     norm2  \n",
       "0         16       92  47.927342     0.000000  0.000000  \n",
       "189       16       92  47.657049     0.000000  0.000000  \n",
       "182       16       86  43.125512     0.000000  0.000000  \n",
       "170       16       74  34.098901     0.000000  0.000000  \n",
       "166       16       87  43.675676     0.000000  0.000000  \n",
       "..       ...      ...        ...          ...       ...  \n",
       "32        33       48  42.250000     0.586207  0.586207  \n",
       "38        35       61  45.000000     0.655172  0.655172  \n",
       "186       36       49  42.500000     0.689655  0.689655  \n",
       "28        37       48  42.500000     0.724138  0.724138  \n",
       "29        45       50  47.500000     1.000000  1.000000  \n",
       "\n",
       "[266 rows x 8 columns]"
      ]
     },
     "execution_count": 59,
     "metadata": {},
     "output_type": "execute_result"
    }
   ],
   "source": [
    "min_max_scaler = preprocessing.MinMaxScaler()\n",
    "x_scaled = min_max_scaler.fit_transform(data[['min_age']].values.astype(float))\n",
    "df_normalized = pd.DataFrame(x_scaled)\n",
    "data['norm2'] = x_scaled\n",
    "data.sort_values(by='min_age')"
   ]
  },
  {
   "cell_type": "markdown",
   "metadata": {},
   "source": [
    "# zscore normalization"
   ]
  },
  {
   "cell_type": "code",
   "execution_count": 97,
   "metadata": {},
   "outputs": [
    {
     "data": {
      "text/html": [
       "<div>\n",
       "<style scoped>\n",
       "    .dataframe tbody tr th:only-of-type {\n",
       "        vertical-align: middle;\n",
       "    }\n",
       "\n",
       "    .dataframe tbody tr th {\n",
       "        vertical-align: top;\n",
       "    }\n",
       "\n",
       "    .dataframe thead th {\n",
       "        text-align: right;\n",
       "    }\n",
       "</style>\n",
       "<table border=\"1\" class=\"dataframe\">\n",
       "  <thead>\n",
       "    <tr style=\"text-align: right;\">\n",
       "      <th></th>\n",
       "      <th>naics</th>\n",
       "      <th>census_ind</th>\n",
       "      <th>naics_industry</th>\n",
       "      <th>min_age</th>\n",
       "      <th>max_age</th>\n",
       "      <th>avg_age</th>\n",
       "      <th>zscore</th>\n",
       "    </tr>\n",
       "  </thead>\n",
       "  <tbody>\n",
       "    <tr>\n",
       "      <th>0</th>\n",
       "      <td>111</td>\n",
       "      <td>170</td>\n",
       "      <td>AGR-CROP PRODUCTION</td>\n",
       "      <td>16</td>\n",
       "      <td>92</td>\n",
       "      <td>47.927342</td>\n",
       "      <td>-0.829538</td>\n",
       "    </tr>\n",
       "    <tr>\n",
       "      <th>189</th>\n",
       "      <td>5411</td>\n",
       "      <td>7270</td>\n",
       "      <td>PRF-LEGAL SERVICES</td>\n",
       "      <td>16</td>\n",
       "      <td>92</td>\n",
       "      <td>47.657049</td>\n",
       "      <td>-0.829538</td>\n",
       "    </tr>\n",
       "    <tr>\n",
       "      <th>182</th>\n",
       "      <td>52M1</td>\n",
       "      <td>6870</td>\n",
       "      <td>FIN-BANKING AND RELATED ACTIVITIES</td>\n",
       "      <td>16</td>\n",
       "      <td>86</td>\n",
       "      <td>43.125512</td>\n",
       "      <td>-0.829538</td>\n",
       "    </tr>\n",
       "    <tr>\n",
       "      <th>170</th>\n",
       "      <td>5121</td>\n",
       "      <td>6570</td>\n",
       "      <td>INF-MOTION PICTURE AND VIDEO INDUSTRIES</td>\n",
       "      <td>16</td>\n",
       "      <td>74</td>\n",
       "      <td>34.098901</td>\n",
       "      <td>-0.829538</td>\n",
       "    </tr>\n",
       "    <tr>\n",
       "      <th>166</th>\n",
       "      <td>4MS</td>\n",
       "      <td>5790</td>\n",
       "      <td>RET-NOT SPECIFIED RETAIL TRADE</td>\n",
       "      <td>16</td>\n",
       "      <td>87</td>\n",
       "      <td>43.675676</td>\n",
       "      <td>-0.829538</td>\n",
       "    </tr>\n",
       "    <tr>\n",
       "      <th>...</th>\n",
       "      <td>...</td>\n",
       "      <td>...</td>\n",
       "      <td>...</td>\n",
       "      <td>...</td>\n",
       "      <td>...</td>\n",
       "      <td>...</td>\n",
       "      <td>...</td>\n",
       "    </tr>\n",
       "    <tr>\n",
       "      <th>32</th>\n",
       "      <td>31411</td>\n",
       "      <td>1570</td>\n",
       "      <td>MFG-CARPET AND RUG MILLS</td>\n",
       "      <td>33</td>\n",
       "      <td>48</td>\n",
       "      <td>42.250000</td>\n",
       "      <td>3.594011</td>\n",
       "    </tr>\n",
       "    <tr>\n",
       "      <th>38</th>\n",
       "      <td>31M</td>\n",
       "      <td>1670</td>\n",
       "      <td>MFG-KNITTING FABRIC MILLS, AND APPAREL KNITTIN...</td>\n",
       "      <td>35</td>\n",
       "      <td>61</td>\n",
       "      <td>45.000000</td>\n",
       "      <td>4.114428</td>\n",
       "    </tr>\n",
       "    <tr>\n",
       "      <th>186</th>\n",
       "      <td>53223</td>\n",
       "      <td>7170</td>\n",
       "      <td>FIN-VIDEO TAPE AND DISK RENTAL</td>\n",
       "      <td>36</td>\n",
       "      <td>49</td>\n",
       "      <td>42.500000</td>\n",
       "      <td>4.374637</td>\n",
       "    </tr>\n",
       "    <tr>\n",
       "      <th>28</th>\n",
       "      <td>3122</td>\n",
       "      <td>1390</td>\n",
       "      <td>MFG-TOBACCO</td>\n",
       "      <td>37</td>\n",
       "      <td>48</td>\n",
       "      <td>42.500000</td>\n",
       "      <td>4.634845</td>\n",
       "    </tr>\n",
       "    <tr>\n",
       "      <th>29</th>\n",
       "      <td>3131</td>\n",
       "      <td>1470</td>\n",
       "      <td>MFG-FIBER, YARN, AND THREAD MILLS</td>\n",
       "      <td>45</td>\n",
       "      <td>50</td>\n",
       "      <td>47.500000</td>\n",
       "      <td>6.716515</td>\n",
       "    </tr>\n",
       "  </tbody>\n",
       "</table>\n",
       "<p>266 rows × 7 columns</p>\n",
       "</div>"
      ],
      "text/plain": [
       "     naics  census_ind                                     naics_industry  \\\n",
       "0      111         170                                AGR-CROP PRODUCTION   \n",
       "189   5411        7270                                 PRF-LEGAL SERVICES   \n",
       "182   52M1        6870                 FIN-BANKING AND RELATED ACTIVITIES   \n",
       "170   5121        6570            INF-MOTION PICTURE AND VIDEO INDUSTRIES   \n",
       "166    4MS        5790                     RET-NOT SPECIFIED RETAIL TRADE   \n",
       "..     ...         ...                                                ...   \n",
       "32   31411        1570                           MFG-CARPET AND RUG MILLS   \n",
       "38     31M        1670  MFG-KNITTING FABRIC MILLS, AND APPAREL KNITTIN...   \n",
       "186  53223        7170                     FIN-VIDEO TAPE AND DISK RENTAL   \n",
       "28    3122        1390                                        MFG-TOBACCO   \n",
       "29    3131        1470                  MFG-FIBER, YARN, AND THREAD MILLS   \n",
       "\n",
       "     min_age  max_age    avg_age    zscore  \n",
       "0         16       92  47.927342 -0.829538  \n",
       "189       16       92  47.657049 -0.829538  \n",
       "182       16       86  43.125512 -0.829538  \n",
       "170       16       74  34.098901 -0.829538  \n",
       "166       16       87  43.675676 -0.829538  \n",
       "..       ...      ...        ...       ...  \n",
       "32        33       48  42.250000  3.594011  \n",
       "38        35       61  45.000000  4.114428  \n",
       "186       36       49  42.500000  4.374637  \n",
       "28        37       48  42.500000  4.634845  \n",
       "29        45       50  47.500000  6.716515  \n",
       "\n",
       "[266 rows x 7 columns]"
      ]
     },
     "execution_count": 97,
     "metadata": {},
     "output_type": "execute_result"
    }
   ],
   "source": [
    "from scipy import stats\n",
    "data['zscore']=stats.zscore(data['min_age'])\n",
    "data.sort_values(by='min_age')"
   ]
  },
  {
   "cell_type": "markdown",
   "metadata": {},
   "source": [
    "# Data Transformation"
   ]
  },
  {
   "cell_type": "code",
   "execution_count": 108,
   "metadata": {},
   "outputs": [
    {
     "data": {
      "text/html": [
       "<div>\n",
       "<style scoped>\n",
       "    .dataframe tbody tr th:only-of-type {\n",
       "        vertical-align: middle;\n",
       "    }\n",
       "\n",
       "    .dataframe tbody tr th {\n",
       "        vertical-align: top;\n",
       "    }\n",
       "\n",
       "    .dataframe thead th {\n",
       "        text-align: right;\n",
       "    }\n",
       "</style>\n",
       "<table border=\"1\" class=\"dataframe\">\n",
       "  <thead>\n",
       "    <tr style=\"text-align: right;\">\n",
       "      <th></th>\n",
       "      <th>naics</th>\n",
       "      <th>census_ind</th>\n",
       "      <th>naics_industry</th>\n",
       "      <th>min_age</th>\n",
       "      <th>max_age</th>\n",
       "      <th>avg_age</th>\n",
       "      <th>zscore</th>\n",
       "    </tr>\n",
       "  </thead>\n",
       "  <tbody>\n",
       "    <tr>\n",
       "      <th>0</th>\n",
       "      <td>111</td>\n",
       "      <td>170</td>\n",
       "      <td>AGR-CROP PRODUCTION</td>\n",
       "      <td>16</td>\n",
       "      <td>92</td>\n",
       "      <td>47.927342</td>\n",
       "      <td>-0.829538</td>\n",
       "    </tr>\n",
       "    <tr>\n",
       "      <th>189</th>\n",
       "      <td>5411</td>\n",
       "      <td>7270</td>\n",
       "      <td>PRF-LEGAL SERVICES</td>\n",
       "      <td>16</td>\n",
       "      <td>92</td>\n",
       "      <td>47.657049</td>\n",
       "      <td>-0.829538</td>\n",
       "    </tr>\n",
       "    <tr>\n",
       "      <th>182</th>\n",
       "      <td>52M1</td>\n",
       "      <td>6870</td>\n",
       "      <td>FIN-BANKING AND RELATED ACTIVITIES</td>\n",
       "      <td>16</td>\n",
       "      <td>86</td>\n",
       "      <td>43.125512</td>\n",
       "      <td>-0.829538</td>\n",
       "    </tr>\n",
       "    <tr>\n",
       "      <th>170</th>\n",
       "      <td>5121</td>\n",
       "      <td>6570</td>\n",
       "      <td>INF-MOTION PICTURE AND VIDEO INDUSTRIES</td>\n",
       "      <td>16</td>\n",
       "      <td>74</td>\n",
       "      <td>34.098901</td>\n",
       "      <td>-0.829538</td>\n",
       "    </tr>\n",
       "    <tr>\n",
       "      <th>166</th>\n",
       "      <td>4MS</td>\n",
       "      <td>5790</td>\n",
       "      <td>RET-NOT SPECIFIED RETAIL TRADE</td>\n",
       "      <td>16</td>\n",
       "      <td>87</td>\n",
       "      <td>43.675676</td>\n",
       "      <td>-0.829538</td>\n",
       "    </tr>\n",
       "    <tr>\n",
       "      <th>...</th>\n",
       "      <td>...</td>\n",
       "      <td>...</td>\n",
       "      <td>...</td>\n",
       "      <td>...</td>\n",
       "      <td>...</td>\n",
       "      <td>...</td>\n",
       "      <td>...</td>\n",
       "    </tr>\n",
       "    <tr>\n",
       "      <th>32</th>\n",
       "      <td>31411</td>\n",
       "      <td>1570</td>\n",
       "      <td>MFG-CARPET AND RUG MILLS</td>\n",
       "      <td>33</td>\n",
       "      <td>48</td>\n",
       "      <td>42.250000</td>\n",
       "      <td>3.594011</td>\n",
       "    </tr>\n",
       "    <tr>\n",
       "      <th>38</th>\n",
       "      <td>31M</td>\n",
       "      <td>1670</td>\n",
       "      <td>MFG-KNITTING FABRIC MILLS, AND APPAREL KNITTIN...</td>\n",
       "      <td>35</td>\n",
       "      <td>61</td>\n",
       "      <td>45.000000</td>\n",
       "      <td>4.114428</td>\n",
       "    </tr>\n",
       "    <tr>\n",
       "      <th>186</th>\n",
       "      <td>53223</td>\n",
       "      <td>7170</td>\n",
       "      <td>FIN-VIDEO TAPE AND DISK RENTAL</td>\n",
       "      <td>36</td>\n",
       "      <td>49</td>\n",
       "      <td>42.500000</td>\n",
       "      <td>4.374637</td>\n",
       "    </tr>\n",
       "    <tr>\n",
       "      <th>28</th>\n",
       "      <td>3122</td>\n",
       "      <td>1390</td>\n",
       "      <td>MFG-TOBACCO</td>\n",
       "      <td>37</td>\n",
       "      <td>48</td>\n",
       "      <td>42.500000</td>\n",
       "      <td>4.634845</td>\n",
       "    </tr>\n",
       "    <tr>\n",
       "      <th>29</th>\n",
       "      <td>3131</td>\n",
       "      <td>1470</td>\n",
       "      <td>MFG-FIBER, YARN, AND THREAD MILLS</td>\n",
       "      <td>45</td>\n",
       "      <td>50</td>\n",
       "      <td>47.500000</td>\n",
       "      <td>6.716515</td>\n",
       "    </tr>\n",
       "  </tbody>\n",
       "</table>\n",
       "<p>266 rows × 7 columns</p>\n",
       "</div>"
      ],
      "text/plain": [
       "     naics  census_ind                                     naics_industry  \\\n",
       "0      111         170                                AGR-CROP PRODUCTION   \n",
       "189   5411        7270                                 PRF-LEGAL SERVICES   \n",
       "182   52M1        6870                 FIN-BANKING AND RELATED ACTIVITIES   \n",
       "170   5121        6570            INF-MOTION PICTURE AND VIDEO INDUSTRIES   \n",
       "166    4MS        5790                     RET-NOT SPECIFIED RETAIL TRADE   \n",
       "..     ...         ...                                                ...   \n",
       "32   31411        1570                           MFG-CARPET AND RUG MILLS   \n",
       "38     31M        1670  MFG-KNITTING FABRIC MILLS, AND APPAREL KNITTIN...   \n",
       "186  53223        7170                     FIN-VIDEO TAPE AND DISK RENTAL   \n",
       "28    3122        1390                                        MFG-TOBACCO   \n",
       "29    3131        1470                  MFG-FIBER, YARN, AND THREAD MILLS   \n",
       "\n",
       "     min_age  max_age    avg_age    zscore  \n",
       "0         16       92  47.927342 -0.829538  \n",
       "189       16       92  47.657049 -0.829538  \n",
       "182       16       86  43.125512 -0.829538  \n",
       "170       16       74  34.098901 -0.829538  \n",
       "166       16       87  43.675676 -0.829538  \n",
       "..       ...      ...        ...       ...  \n",
       "32        33       48  42.250000  3.594011  \n",
       "38        35       61  45.000000  4.114428  \n",
       "186       36       49  42.500000  4.374637  \n",
       "28        37       48  42.500000  4.634845  \n",
       "29        45       50  47.500000  6.716515  \n",
       "\n",
       "[266 rows x 7 columns]"
      ]
     },
     "execution_count": 108,
     "metadata": {},
     "output_type": "execute_result"
    }
   ],
   "source": [
    "sorted_data = data.sort_values(by=['min_age'])\n",
    "sorted_data"
   ]
  },
  {
   "cell_type": "code",
   "execution_count": 110,
   "metadata": {},
   "outputs": [
    {
     "data": {
      "text/html": [
       "<div>\n",
       "<style scoped>\n",
       "    .dataframe tbody tr th:only-of-type {\n",
       "        vertical-align: middle;\n",
       "    }\n",
       "\n",
       "    .dataframe tbody tr th {\n",
       "        vertical-align: top;\n",
       "    }\n",
       "\n",
       "    .dataframe thead th {\n",
       "        text-align: right;\n",
       "    }\n",
       "</style>\n",
       "<table border=\"1\" class=\"dataframe\">\n",
       "  <thead>\n",
       "    <tr style=\"text-align: right;\">\n",
       "      <th></th>\n",
       "      <th>naics</th>\n",
       "      <th>census_ind</th>\n",
       "      <th>naics_industry</th>\n",
       "      <th>min_age</th>\n",
       "      <th>max_age</th>\n",
       "      <th>avg_age</th>\n",
       "      <th>zscore</th>\n",
       "    </tr>\n",
       "  </thead>\n",
       "  <tbody>\n",
       "    <tr>\n",
       "      <th>260</th>\n",
       "      <td>928110P6</td>\n",
       "      <td>9790</td>\n",
       "      <td>MIL-U.S. ARMED FORCES, BRANCH NOT SPECIFIED</td>\n",
       "      <td>18</td>\n",
       "      <td>52</td>\n",
       "      <td>26.604651</td>\n",
       "      <td>-0.309120</td>\n",
       "    </tr>\n",
       "    <tr>\n",
       "      <th>96</th>\n",
       "      <td>33MS</td>\n",
       "      <td>2990</td>\n",
       "      <td>MFG-NOT SPECIFIED METAL INDUSTRIES</td>\n",
       "      <td>22</td>\n",
       "      <td>32</td>\n",
       "      <td>27.000000</td>\n",
       "      <td>0.731715</td>\n",
       "    </tr>\n",
       "    <tr>\n",
       "      <th>258</th>\n",
       "      <td>928110P4</td>\n",
       "      <td>9770</td>\n",
       "      <td>MIL-U.S. MARINES</td>\n",
       "      <td>18</td>\n",
       "      <td>42</td>\n",
       "      <td>27.400000</td>\n",
       "      <td>-0.309120</td>\n",
       "    </tr>\n",
       "    <tr>\n",
       "      <th>256</th>\n",
       "      <td>928110P2</td>\n",
       "      <td>9680</td>\n",
       "      <td>MIL-U.S. AIR FORCE</td>\n",
       "      <td>18</td>\n",
       "      <td>54</td>\n",
       "      <td>27.893004</td>\n",
       "      <td>-0.309120</td>\n",
       "    </tr>\n",
       "    <tr>\n",
       "      <th>259</th>\n",
       "      <td>928110P5</td>\n",
       "      <td>9780</td>\n",
       "      <td>MIL-U.S. COAST GUARD</td>\n",
       "      <td>18</td>\n",
       "      <td>41</td>\n",
       "      <td>28.750000</td>\n",
       "      <td>-0.309120</td>\n",
       "    </tr>\n",
       "    <tr>\n",
       "      <th>...</th>\n",
       "      <td>...</td>\n",
       "      <td>...</td>\n",
       "      <td>...</td>\n",
       "      <td>...</td>\n",
       "      <td>...</td>\n",
       "      <td>...</td>\n",
       "      <td>...</td>\n",
       "    </tr>\n",
       "    <tr>\n",
       "      <th>243</th>\n",
       "      <td>8122</td>\n",
       "      <td>9080</td>\n",
       "      <td>SRV-FUNERAL HOMES, CEMETERIES AND CREMATORIES</td>\n",
       "      <td>20</td>\n",
       "      <td>92</td>\n",
       "      <td>51.330579</td>\n",
       "      <td>0.211297</td>\n",
       "    </tr>\n",
       "    <tr>\n",
       "      <th>108</th>\n",
       "      <td>4241</td>\n",
       "      <td>4370</td>\n",
       "      <td>WHL-PAPER AND PAPER PRODUCTS MERCHANT WHOLESALERS</td>\n",
       "      <td>23</td>\n",
       "      <td>66</td>\n",
       "      <td>51.431818</td>\n",
       "      <td>0.991923</td>\n",
       "    </tr>\n",
       "    <tr>\n",
       "      <th>35</th>\n",
       "      <td>3159</td>\n",
       "      <td>1690</td>\n",
       "      <td>MFG-APPAREL ACCESSORIES AND OTHER APPAREL</td>\n",
       "      <td>30</td>\n",
       "      <td>66</td>\n",
       "      <td>52.375000</td>\n",
       "      <td>2.813384</td>\n",
       "    </tr>\n",
       "    <tr>\n",
       "      <th>8</th>\n",
       "      <td>2122</td>\n",
       "      <td>390</td>\n",
       "      <td>EXT-METAL ORE MINING</td>\n",
       "      <td>24</td>\n",
       "      <td>64</td>\n",
       "      <td>52.714286</td>\n",
       "      <td>1.252132</td>\n",
       "    </tr>\n",
       "    <tr>\n",
       "      <th>152</th>\n",
       "      <td>454310</td>\n",
       "      <td>5680</td>\n",
       "      <td>RET-FUEL DEALERS</td>\n",
       "      <td>26</td>\n",
       "      <td>82</td>\n",
       "      <td>53.961538</td>\n",
       "      <td>1.772550</td>\n",
       "    </tr>\n",
       "  </tbody>\n",
       "</table>\n",
       "<p>266 rows × 7 columns</p>\n",
       "</div>"
      ],
      "text/plain": [
       "        naics  census_ind                                     naics_industry  \\\n",
       "260  928110P6        9790        MIL-U.S. ARMED FORCES, BRANCH NOT SPECIFIED   \n",
       "96       33MS        2990                 MFG-NOT SPECIFIED METAL INDUSTRIES   \n",
       "258  928110P4        9770                                   MIL-U.S. MARINES   \n",
       "256  928110P2        9680                                 MIL-U.S. AIR FORCE   \n",
       "259  928110P5        9780                               MIL-U.S. COAST GUARD   \n",
       "..        ...         ...                                                ...   \n",
       "243      8122        9080      SRV-FUNERAL HOMES, CEMETERIES AND CREMATORIES   \n",
       "108      4241        4370  WHL-PAPER AND PAPER PRODUCTS MERCHANT WHOLESALERS   \n",
       "35       3159        1690          MFG-APPAREL ACCESSORIES AND OTHER APPAREL   \n",
       "8        2122         390                               EXT-METAL ORE MINING   \n",
       "152    454310        5680                                   RET-FUEL DEALERS   \n",
       "\n",
       "     min_age  max_age    avg_age    zscore  \n",
       "260       18       52  26.604651 -0.309120  \n",
       "96        22       32  27.000000  0.731715  \n",
       "258       18       42  27.400000 -0.309120  \n",
       "256       18       54  27.893004 -0.309120  \n",
       "259       18       41  28.750000 -0.309120  \n",
       "..       ...      ...        ...       ...  \n",
       "243       20       92  51.330579  0.211297  \n",
       "108       23       66  51.431818  0.991923  \n",
       "35        30       66  52.375000  2.813384  \n",
       "8         24       64  52.714286  1.252132  \n",
       "152       26       82  53.961538  1.772550  \n",
       "\n",
       "[266 rows x 7 columns]"
      ]
     },
     "execution_count": 110,
     "metadata": {},
     "output_type": "execute_result"
    }
   ],
   "source": [
    "sorted_data = data.sort_values(by=['avg_age'])\n",
    "sorted_data"
   ]
  },
  {
   "cell_type": "code",
   "execution_count": 96,
   "metadata": {},
   "outputs": [],
   "source": [
    "from sklearn import preprocessing\n",
    "from sklearn.preprocessing import LabelEncoder\n",
    "def labelencoding(feat, data):\n",
    "    le = preprocessing.LabelEncoder()\n",
    "    data[feat] = le.fit_transform(data[feat])\n",
    "    print(data[feat].value_counts())"
   ]
  },
  {
   "cell_type": "code",
   "execution_count": 104,
   "metadata": {},
   "outputs": [
    {
     "name": "stdout",
     "output_type": "stream",
     "text": [
      "265    1\n",
      "83     1\n",
      "97     1\n",
      "96     1\n",
      "95     1\n",
      "      ..\n",
      "171    1\n",
      "170    1\n",
      "169    1\n",
      "168    1\n",
      "0      1\n",
      "Name: naics_industry, Length: 266, dtype: int64\n"
     ]
    }
   ],
   "source": [
    "labelencoding('naics_industry', df)"
   ]
  },
  {
   "cell_type": "markdown",
   "metadata": {},
   "source": [
    "# Data Histogram"
   ]
  },
  {
   "cell_type": "code",
   "execution_count": 62,
   "metadata": {},
   "outputs": [],
   "source": [
    "df = pd.DataFrame(data) "
   ]
  },
  {
   "cell_type": "code",
   "execution_count": 63,
   "metadata": {},
   "outputs": [
    {
     "data": {
      "text/plain": [
       "array([16, 18, 31, 20, 19, 30, 24, 21, 22, 23, 17, 37, 45, 29, 28, 33, 35,\n",
       "       26, 36], dtype=int64)"
      ]
     },
     "execution_count": 63,
     "metadata": {},
     "output_type": "execute_result"
    }
   ],
   "source": [
    "df.min_age.unique() "
   ]
  },
  {
   "cell_type": "code",
   "execution_count": 67,
   "metadata": {},
   "outputs": [
    {
     "data": {
      "text/plain": [
       "<AxesSubplot:ylabel='Frequency'>"
      ]
     },
     "execution_count": 67,
     "metadata": {},
     "output_type": "execute_result"
    },
    {
     "data": {
      "image/png": "[encoded data removed]",
      "text/plain": [
       "<Figure size 432x288 with 1 Axes>"
      ]
     },
     "metadata": {
      "needs_background": "light"
     },
     "output_type": "display_data"
    }
   ],
   "source": [
    "df['min_age'].plot(kind='hist')"
   ]
  },
  {
   "cell_type": "code",
   "execution_count": 80,
   "metadata": {},
   "outputs": [
    {
     "data": {
      "text/plain": [
       "array([92, 67, 74, 60, 87, 86, 66, 64, 75, 80, 81, 73, 83, 63, 76, 78, 70,\n",
       "       65, 57, 72, 48, 50, 41, 61, 71, 58, 85, 77, 84, 69, 88, 68, 79, 82,\n",
       "       62, 32, 49, 54, 42, 52, 53], dtype=int64)"
      ]
     },
     "execution_count": 80,
     "metadata": {},
     "output_type": "execute_result"
    }
   ],
   "source": [
    "df.max_age.unique() "
   ]
  },
  {
   "cell_type": "code",
   "execution_count": 81,
   "metadata": {},
   "outputs": [
    {
     "data": {
      "text/plain": [
       "<AxesSubplot:ylabel='Frequency'>"
      ]
     },
     "execution_count": 81,
     "metadata": {},
     "output_type": "execute_result"
    },
    {
     "data": {
      "image/png": "[encoded data removed]",
      "text/plain": [
       "<Figure size 432x288 with 1 Axes>"
      ]
     },
     "metadata": {
      "needs_background": "light"
     },
     "output_type": "display_data"
    }
   ],
   "source": [
    "df['max_age'].plot(kind='hist')"
   ]
  },
  {
   "cell_type": "code",
   "execution_count": 82,
   "metadata": {},
   "outputs": [
    {
     "data": {
      "text/plain": [
       "<AxesSubplot:ylabel='Frequency'>"
      ]
     },
     "execution_count": 82,
     "metadata": {},
     "output_type": "execute_result"
    },
    {
     "data": {
      "image/png": "[encoded data removed]",
      "text/plain": [
       "<Figure size 432x288 with 1 Axes>"
      ]
     },
     "metadata": {
      "needs_background": "light"
     },
     "output_type": "display_data"
    }
   ],
   "source": [
    "df['avg_age'].plot(kind='hist')"
   ]
  },
  {
   "cell_type": "code",
   "execution_count": null,
   "metadata": {},
   "outputs": [],
   "source": []
  }
 ],
 "metadata": {
  "kernelspec": {
   "display_name": "Python 3",
   "language": "python",
   "name": "python3"
  },
  "language_info": {
   "codemirror_mode": {
    "name": "ipython",
    "version": 3
   },
   "file_extension": ".py",
   "mimetype": "text/x-python",
   "name": "python",
   "nbconvert_exporter": "python",
   "pygments_lexer": "ipython3",
   "version": "3.8.5"
  }
 },
 "nbformat": 4,
 "nbformat_minor": 4
}
